{
 "cells": [
  {
   "attachments": {},
   "cell_type": "markdown",
   "metadata": {},
   "source": [
    "<h4>Objetivo: avaliação de vôo</h4>"
   ]
  },
  {
   "cell_type": "code",
   "execution_count": 1,
   "metadata": {},
   "outputs": [],
   "source": [
    "import pandas as pd\n",
    "import numpy as np\n",
    "from tensorflow import keras\n",
    "import matplotlib.pyplot as plt"
   ]
  },
  {
   "attachments": {},
   "cell_type": "markdown",
   "metadata": {},
   "source": [
    "## recebendo dados"
   ]
  },
  {
   "cell_type": "code",
   "execution_count": 2,
   "metadata": {},
   "outputs": [],
   "source": [
    "treino = pd.read_csv('./data/airline_train.csv')\n",
    "teste = pd.read_csv('./data/airline_test.csv')"
   ]
  },
  {
   "attachments": {},
   "cell_type": "markdown",
   "metadata": {},
   "source": [
    "- Gender: genero (Female, Male)\n",
    "- Customer Type: tipo de consumidor (Loyal customer, disloyal customer)\n",
    "- Age: idade\n",
    "- Type of Travel: propósito da viagem (Personal Travel, Business Travel)\n",
    "- Class: classe do vôo (Business, Eco, Eco Plus)\n",
    "- Flight distance: distancia do voo\n",
    "- Inflight wifi service: satisfação com wifi (0:Not Applicable;1-5)\n",
    "- Departure/Arrival time convenient: satisfação do horário de saída e chegada\n",
    "- Ease of Online booking: satisfação da reserva online\n",
    "- Gate location: satisfação da localização do portão\n",
    "- Food and drink: satisfação da comida e bebida\n",
    "- Online boarding: satisfação do embarque online\n",
    "- Seat comfort: satisfação do conforto do acento\n",
    "- Inflight entertainment: satisfação do entretenimento abordo\n",
    "- On-board service: satisfação do serviço de bordo\n",
    "- Leg room service: satisfação do serviço de quarto Leg\n",
    "- Baggage handling: satisfação no manuseio de bagagem\n",
    "- Check-in service: satisfação do serviço de Check-in\n",
    "- Inflight service: satisfação do serviço de bordo\n",
    "- Cleanliness: satisfação de limpeza\n",
    "- Departure Delay in Minutes: minutos de atraso da partida\n",
    "- Arrival Delay in Minutes: minuto de atraso da chegada\n",
    "- Satisfaction: nível de satisfação (Satisfaction, neutral or dissatisfaction)"
   ]
  },
  {
   "cell_type": "code",
   "execution_count": 3,
   "metadata": {},
   "outputs": [
    {
     "name": "stdout",
     "output_type": "stream",
     "text": [
      "Coluna: Unnamed: 0\n",
      "[     0      1      2 ... 103901 103902 103903]\n",
      "------------------------------\n",
      "Coluna: id\n",
      "[ 70172   5047 110028 ...  68825  54173  62567]\n",
      "------------------------------\n",
      "Coluna: Gender\n",
      "['Male' 'Female']\n",
      "------------------------------\n",
      "Coluna: Customer Type\n",
      "['Loyal Customer' 'disloyal Customer']\n",
      "------------------------------\n",
      "Coluna: Age\n",
      "[13 25 26 61 47 52 41 20 24 12 53 33 45 38  9 17 43 58 23 57 49 36 22 31\n",
      " 15 35 67 37 40 34 39 50 29 54 21 28 27 69 60 48 59 46 30 66 64 44 51 32\n",
      " 19 42 16 11 62  8 56 68 55 18 65 72 70 63 10  7 14 80 74 71 85 73 76 77\n",
      " 75 79 78]\n",
      "------------------------------\n",
      "Coluna: Type of Travel\n",
      "['Personal Travel' 'Business travel']\n",
      "------------------------------\n",
      "Coluna: Class\n",
      "['Eco Plus' 'Business' 'Eco']\n",
      "------------------------------\n",
      "Coluna: Flight Distance\n",
      "[ 460  235 1142 ...  974 1479  400]\n",
      "------------------------------\n",
      "Coluna: Inflight wifi service\n",
      "[3 2 4 1 5 0]\n",
      "------------------------------\n",
      "Coluna: Departure/Arrival time convenient\n",
      "[4 2 5 3 1 0]\n",
      "------------------------------\n",
      "Coluna: Ease of Online booking\n",
      "[3 2 5 4 1 0]\n",
      "------------------------------\n",
      "Coluna: Gate location\n",
      "[1 3 2 5 4 0]\n",
      "------------------------------\n",
      "Coluna: Food and drink\n",
      "[5 1 2 4 3 0]\n",
      "------------------------------\n",
      "Coluna: Online boarding\n",
      "[3 5 2 1 4 0]\n",
      "------------------------------\n",
      "Coluna: Seat comfort\n",
      "[5 1 2 3 4 0]\n",
      "------------------------------\n",
      "Coluna: Inflight entertainment\n",
      "[5 1 2 3 4 0]\n",
      "------------------------------\n",
      "Coluna: On-board service\n",
      "[4 1 2 3 5 0]\n",
      "------------------------------\n",
      "Coluna: Leg room service\n",
      "[3 5 4 2 1 0]\n",
      "------------------------------\n",
      "Coluna: Baggage handling\n",
      "[4 3 5 1 2]\n",
      "------------------------------\n",
      "Coluna: Checkin service\n",
      "[4 1 3 5 2 0]\n",
      "------------------------------\n",
      "Coluna: Inflight service\n",
      "[5 4 3 1 2 0]\n",
      "------------------------------\n",
      "Coluna: Cleanliness\n",
      "[5 1 2 3 4 0]\n",
      "------------------------------\n",
      "Coluna: Departure Delay in Minutes\n",
      "[  25    1    0   11    9    4   28   43   49    7   17   52   54   27\n",
      "   18   19    3  109   23    8   14   10   51   39   13   30   64   20\n",
      "   45   44   31   81   35   67   22   40   91   21   15   29  105   12\n",
      "  162   24  141    6   34    2   97   16   99   37   66   53   36  209\n",
      "   60  149   26    5   59   62  113   38   83  176   46   73  199   56\n",
      "   93   70   80   96   57   95   74  172   63  175  143   48   47  101\n",
      "  118   76  220   33   55  232  170  173  124  112   94  243  128   92\n",
      "  270   90  110   50  144   71  315  158   88   65  111   32  156   41\n",
      "  154  150  228   72  137  126  161   42  174  103  313  136  160  412\n",
      "   69  185  114  135  142  147   85  235  125  391   84  138  102  196\n",
      "  140   77  187  131   82  100   86  165   87  129  204  435  166  177\n",
      "  123  139  116  108  167  285   61  117  106  190  168  211   89  324\n",
      "   75  202  290  189  203  120  157  119   68  299  292   78  258  104\n",
      "  121   58  222  317  320  200  134  248   79  240  169   98  249  145\n",
      "  238  246  132  107  127  180  151  480  241  130  268  115  133  171\n",
      "  164  330  438  472  163  122  326  186  155  223  332  447 1305  208\n",
      "  201  233  210  182  221  159  188  184  224  178  266  191  219  652\n",
      "  148  226  236  153  276  212  152  198  245  726  302  283  505  242\n",
      "  215  394  206  311  293  566  225  146  218  227  252  291  193  323\n",
      "  281  287  339  183  259  192  319  207  195  179  194  537  181  257\n",
      "  213  300  295  262  312  383  392  294  250  419  216  308  423  346\n",
      "  272  197  205  303  251  344  333  355  454  459  269  254  231  253\n",
      "  265  301  263  381  214  310  244  239  255  328  348  278  859  692\n",
      "  321  465  426  340  274  267  519  286  414  559  382  237  260  401\n",
      "  247  376  288  271  450  230  217  279  264  448  398  750  365  316\n",
      "  351  327  341  306  353  358  514  334  277  275  352  371  437  229\n",
      "  600  296  460  338  307  234  289  452  318  256  368  626  729  362\n",
      "  360  853  446  399  396  463  364  342  372  298  273  427  429  373\n",
      "  420  579  930 1017  921  370  378  595  491  469  345  410  610  388\n",
      "  748  336  433  455  347  444  282  978  322  496  389  359  415  329\n",
      "  933  402  331  280  407 1592  501  384  377  503  400  430  570  357\n",
      "  350  297  309  531  304  363  411  390  314  343  724  337]\n",
      "------------------------------\n",
      "Coluna: Arrival Delay in Minutes\n",
      "[1.800e+01 6.000e+00 0.000e+00 9.000e+00 2.300e+01 8.000e+00 3.500e+01\n",
      " 5.100e+01 1.000e+01 5.000e+00 4.000e+00 2.900e+01 4.400e+01 2.800e+01\n",
      " 1.200e+01 1.200e+02 2.400e+01 1.000e+00 2.000e+01 3.100e+01 1.500e+01\n",
      " 4.800e+01 2.600e+01 4.900e+01 2.000e+00 3.700e+01 5.000e+01 3.000e+00\n",
      " 1.900e+01 7.200e+01 1.100e+01 3.400e+01 6.200e+01 2.700e+01 5.200e+01\n",
      " 1.300e+01 8.200e+01 3.000e+01 1.600e+01 7.000e+00 1.220e+02 1.790e+02\n",
      " 1.250e+02 1.700e+01       nan 8.900e+01 1.010e+02 1.400e+01 6.100e+01\n",
      " 3.200e+01 3.300e+01 4.100e+01 1.910e+02 1.380e+02 5.300e+01 2.200e+01\n",
      " 5.700e+01 6.500e+01 7.600e+01 1.070e+02 9.200e+01 1.640e+02 2.100e+01\n",
      " 4.000e+01 5.500e+01 1.850e+02 6.300e+01 7.700e+01 8.600e+01 9.100e+01\n",
      " 1.000e+02 5.400e+01 3.600e+01 7.000e+01 1.390e+02 6.700e+01 1.630e+02\n",
      " 1.280e+02 1.800e+02 9.300e+01 1.210e+02 4.500e+01 1.050e+02 1.260e+02\n",
      " 5.600e+01 7.300e+01 2.120e+02 8.800e+01 2.410e+02 1.720e+02 1.750e+02\n",
      " 1.110e+02 9.900e+01 2.500e+01 4.200e+01 2.260e+02 4.600e+01 1.310e+02\n",
      " 2.600e+02 6.900e+01 1.420e+02 5.800e+01 7.500e+01 3.800e+01 6.600e+01\n",
      " 3.900e+01 1.030e+02 3.070e+02 1.560e+02 7.400e+01 1.090e+02 1.550e+02\n",
      " 6.000e+01 1.540e+02 4.300e+01 1.470e+02 2.170e+02 1.240e+02 4.700e+01\n",
      " 1.500e+02 1.160e+02 1.710e+02 8.400e+01 1.230e+02 1.650e+02 9.400e+01\n",
      " 8.300e+01 3.360e+02 5.900e+01 2.190e+02 8.700e+01 4.590e+02 6.800e+01\n",
      " 1.040e+02 1.330e+02 1.340e+02 8.100e+01 2.590e+02 8.000e+01 7.900e+01\n",
      " 2.220e+02 2.030e+02 3.540e+02 2.140e+02 7.800e+01 9.500e+01 7.100e+01\n",
      " 1.100e+02 8.500e+01 1.460e+02 1.960e+02 9.800e+01 4.700e+02 2.640e+02\n",
      " 1.490e+02 1.130e+02 1.190e+02 1.060e+02 2.160e+02 1.600e+02 2.850e+02\n",
      " 1.150e+02 1.860e+02 2.110e+02 3.230e+02 1.760e+02 1.670e+02 2.420e+02\n",
      " 2.840e+02 2.000e+02 1.450e+02 1.080e+02 1.740e+02 1.320e+02 3.130e+02\n",
      " 3.310e+02 2.880e+02 1.180e+02 2.250e+02 6.400e+01 3.240e+02 1.900e+02\n",
      " 1.770e+02 1.360e+02 3.200e+02 2.010e+02 2.710e+02 9.600e+01 1.520e+02\n",
      " 2.800e+02 1.410e+02 1.570e+02 1.530e+02 1.300e+02 1.400e+02 1.120e+02\n",
      " 2.570e+02 1.170e+02 2.350e+02 9.000e+01 1.810e+02 1.830e+02 1.270e+02\n",
      " 4.710e+02 2.270e+02 1.020e+02 1.350e+02 1.290e+02 2.550e+02 1.920e+02\n",
      " 3.480e+02 4.380e+02 4.460e+02 1.840e+02 1.680e+02 1.660e+02 3.100e+02\n",
      " 1.730e+02 2.610e+02 1.610e+02 2.360e+02 1.510e+02 1.820e+02 3.210e+02\n",
      " 2.330e+02 1.370e+02 4.330e+02 1.280e+03 2.180e+02 1.480e+02 1.440e+02\n",
      " 1.870e+02 2.060e+02 1.700e+02 2.090e+02 1.140e+02 2.240e+02 2.810e+02\n",
      " 2.230e+02 6.380e+02 2.200e+02 2.340e+02 9.700e+01 2.650e+02 3.880e+02\n",
      " 2.620e+02 2.210e+02 1.620e+02 2.670e+02 3.740e+02 2.280e+02 2.440e+02\n",
      " 2.470e+02 6.910e+02 1.430e+02 1.890e+02 1.970e+02 2.040e+02 3.190e+02\n",
      " 2.730e+02 3.290e+02 1.950e+02 4.860e+02 1.780e+02 2.700e+02 1.580e+02\n",
      " 1.990e+02 2.130e+02 3.830e+02 3.020e+02 6.000e+02 2.150e+02 1.690e+02\n",
      " 1.880e+02 2.660e+02 2.920e+02 2.870e+02 2.300e+02 2.390e+02 2.890e+02\n",
      " 2.980e+02 2.320e+02 3.630e+02 2.050e+02 2.950e+02 2.830e+02 5.240e+02\n",
      " 3.270e+02 2.460e+02 2.900e+02 3.140e+02 3.160e+02 3.040e+02 2.020e+02\n",
      " 2.960e+02 2.480e+02 3.860e+02 3.810e+02 1.590e+02 3.220e+02 4.600e+02\n",
      " 4.180e+02 3.490e+02 2.560e+02 2.490e+02 1.940e+02 3.150e+02 2.080e+02\n",
      " 1.930e+02 3.710e+02 2.290e+02 3.910e+02 4.540e+02 4.450e+02 2.100e+02\n",
      " 2.680e+02 2.530e+02 2.450e+02 3.370e+02 2.970e+02 4.360e+02 2.790e+02\n",
      " 3.000e+02 2.400e+02 2.370e+02 2.070e+02 1.980e+02 4.040e+02 2.430e+02\n",
      " 3.410e+02 2.780e+02 3.050e+02 8.600e+02 2.580e+02 7.020e+02 3.600e+02\n",
      " 4.930e+02 4.270e+02 3.350e+02 5.160e+02 2.720e+02 4.100e+02 5.550e+02\n",
      " 3.920e+02 2.520e+02 3.300e+02 3.820e+02 2.930e+02 2.770e+02 2.310e+02\n",
      " 2.750e+02 3.620e+02 2.760e+02 7.290e+02 3.570e+02 3.260e+02 2.500e+02\n",
      " 4.580e+02 3.340e+02 2.910e+02 3.800e+02 3.590e+02 3.460e+02 6.240e+02\n",
      " 3.770e+02 3.720e+02 4.290e+02 5.890e+02 3.010e+02 5.020e+02 2.990e+02\n",
      " 4.570e+02 2.380e+02 4.010e+02 4.400e+02 2.860e+02 2.740e+02 3.110e+02\n",
      " 3.030e+02 6.040e+02 7.170e+02 3.560e+02 4.090e+02 8.230e+02 2.940e+02\n",
      " 2.510e+02 4.310e+02 4.320e+02 4.030e+02 3.180e+02 5.030e+02 3.380e+02\n",
      " 3.640e+02 4.070e+02 3.680e+02 3.080e+02 2.540e+02 4.350e+02 2.630e+02\n",
      " 4.170e+02 3.580e+02 4.160e+02 5.610e+02 3.510e+02 9.520e+02 1.011e+03\n",
      " 9.240e+02 3.060e+02 4.240e+02 4.850e+02 4.430e+02 3.170e+02 5.180e+02\n",
      " 3.500e+02 4.440e+02 3.120e+02 3.970e+02 5.930e+02 3.930e+02 7.200e+02\n",
      " 3.660e+02 4.550e+02 2.690e+02 4.340e+02 9.700e+02 3.470e+02 3.090e+02\n",
      " 3.780e+02 3.790e+02 3.950e+02 3.700e+02 4.480e+02 9.200e+02 3.890e+02\n",
      " 3.550e+02 3.420e+02 1.584e+03 5.000e+02 4.020e+02 4.060e+02 4.840e+02\n",
      " 4.120e+02 5.670e+02 4.200e+02 3.990e+02 3.450e+02 3.530e+02 4.220e+02\n",
      " 2.820e+02 5.070e+02 4.250e+02 3.390e+02 3.520e+02 3.850e+02 7.050e+02\n",
      " 3.690e+02]\n",
      "------------------------------\n",
      "Coluna: satisfaction\n",
      "['neutral or dissatisfied' 'satisfied']\n",
      "------------------------------\n"
     ]
    }
   ],
   "source": [
    "for col in treino.columns:\n",
    "    print(f\"Coluna: {col}\")\n",
    "    print(treino[col].unique())\n",
    "    print(\"-\" * 30)"
   ]
  },
  {
   "cell_type": "code",
   "execution_count": 4,
   "metadata": {},
   "outputs": [],
   "source": [
    "# removendo valores nulos\n",
    "treino = treino.dropna()\n",
    "teste = teste.dropna()"
   ]
  },
  {
   "cell_type": "code",
   "execution_count": 5,
   "metadata": {},
   "outputs": [
    {
     "data": {
      "text/plain": [
       "0"
      ]
     },
     "execution_count": 5,
     "metadata": {},
     "output_type": "execute_result"
    }
   ],
   "source": [
    "# verificando se tem linhas duplicadas\n",
    "treino.duplicated().sum()"
   ]
  },
  {
   "cell_type": "code",
   "execution_count": 6,
   "metadata": {},
   "outputs": [],
   "source": [
    "mapeamento = {\n",
    "    # gender\n",
    "    'Male': 0,\n",
    "    'Female': 1,\n",
    "\n",
    "    # customer type\n",
    "    'Loyal Customer': 0,\n",
    "    'disloyal Customer': 1,\n",
    "\n",
    "    # type of travel\n",
    "    'Personal Travel': 0,\n",
    "    'Business travel': 1,\n",
    "\n",
    "    # class\n",
    "    'Eco': 0,\n",
    "    'Eco Plus': 1,\n",
    "    'Business': 2,\n",
    "\n",
    "    # satisfaction\n",
    "    'neutral or dissatisfied': 0,\n",
    "    'satisfied': 1,\n",
    "}"
   ]
  },
  {
   "cell_type": "code",
   "execution_count": 7,
   "metadata": {},
   "outputs": [],
   "source": [
    "colunas = ['Gender', 'Customer Type', 'Type of Travel', 'Class', 'satisfaction']\n",
    "\n",
    "treino[colunas] = treino[colunas].replace(mapeamento)\n",
    "teste[colunas] = teste[colunas].replace(mapeamento)"
   ]
  },
  {
   "cell_type": "code",
   "execution_count": 8,
   "metadata": {},
   "outputs": [],
   "source": [
    "retirar = ['satisfaction']\n",
    "\n",
    "x_treino = treino.drop(retirar, axis=1)\n",
    "y_treino = treino['satisfaction']\n",
    "\n",
    "x_teste = teste.drop(retirar, axis=1)\n",
    "y_teste = teste['satisfaction']"
   ]
  },
  {
   "attachments": {},
   "cell_type": "markdown",
   "metadata": {},
   "source": [
    "## criando modelo"
   ]
  },
  {
   "cell_type": "code",
   "execution_count": 9,
   "metadata": {},
   "outputs": [
    {
     "data": {
      "text/plain": [
       "(103594, 24)"
      ]
     },
     "execution_count": 9,
     "metadata": {},
     "output_type": "execute_result"
    }
   ],
   "source": [
    "x_treino.shape"
   ]
  },
  {
   "cell_type": "code",
   "execution_count": 10,
   "metadata": {},
   "outputs": [
    {
     "name": "stderr",
     "output_type": "stream",
     "text": [
      "c:\\Users\\nessa\\OneDrive\\Desktop\\coding\\python\\machineLearning\\.venv\\Lib\\site-packages\\keras\\src\\layers\\core\\dense.py:73: UserWarning: Do not pass an `input_shape`/`input_dim` argument to a layer. When using Sequential models, prefer using an `Input(shape)` object as the first layer in the model instead.\n",
      "  super().__init__(activity_regularizer=activity_regularizer, **kwargs)\n"
     ]
    }
   ],
   "source": [
    "modelo = keras.models.Sequential([\n",
    "    keras.layers.Dense(units=1, input_dim=24, activation='sigmoid',name='entrada'),\n",
    "    keras.layers.BatchNormalization(),\n",
    "    keras.layers.LeakyReLU(),\n",
    "    keras.layers.BatchNormalization(),\n",
    "    keras.layers.Dense(16),\n",
    "    keras.layers.LeakyReLU(),\n",
    "    keras.layers.BatchNormalization(),\n",
    "    keras.layers.Dropout(.2),\n",
    "    keras.layers.Dense(32),\n",
    "    keras.layers.LeakyReLU(),\n",
    "    keras.layers.BatchNormalization(),\n",
    "    keras.layers.Dropout(.5),\n",
    "    keras.layers.Dense(16),\n",
    "    keras.layers.LeakyReLU(),\n",
    "    keras.layers.BatchNormalization(),\n",
    "    keras.layers.Dense(32),\n",
    "    keras.layers.LeakyReLU(),\n",
    "    keras.layers.BatchNormalization(),\n",
    "    keras.layers.Dropout(.2),\n",
    "    keras.layers.Dense(16),    \n",
    "    keras.layers.LeakyReLU(),\n",
    "    keras.layers.BatchNormalization(),\n",
    "    # keras.layers.Dense(256, activation='relu',kernel_initializer=keras.initializers.RandomNormal(seed=142),name='oculta_menor'),\n",
    "    keras.layers.Dense(1,activation='sigmoid',name='saida')\n",
    "])"
   ]
  },
  {
   "cell_type": "code",
   "execution_count": 11,
   "metadata": {},
   "outputs": [
    {
     "data": {
      "text/html": [
       "<pre style=\"white-space:pre;overflow-x:auto;line-height:normal;font-family:Menlo,'DejaVu Sans Mono',consolas,'Courier New',monospace\"><span style=\"font-weight: bold\">Model: \"sequential\"</span>\n",
       "</pre>\n"
      ],
      "text/plain": [
       "\u001b[1mModel: \"sequential\"\u001b[0m\n"
      ]
     },
     "metadata": {},
     "output_type": "display_data"
    },
    {
     "data": {
      "text/html": [
       "<pre style=\"white-space:pre;overflow-x:auto;line-height:normal;font-family:Menlo,'DejaVu Sans Mono',consolas,'Courier New',monospace\">┏━━━━━━━━━━━━━━━━━━━━━━━━━━━━━━━━━┳━━━━━━━━━━━━━━━━━━━━━━━━━━━┳━━━━━━━━━━━━┓\n",
       "┃<span style=\"font-weight: bold\"> Layer (type)                    </span>┃<span style=\"font-weight: bold\"> Output Shape              </span>┃<span style=\"font-weight: bold\">    Param # </span>┃\n",
       "┡━━━━━━━━━━━━━━━━━━━━━━━━━━━━━━━━━╇━━━━━━━━━━━━━━━━━━━━━━━━━━━╇━━━━━━━━━━━━┩\n",
       "│ entrada (<span style=\"color: #0087ff; text-decoration-color: #0087ff\">Dense</span>)                 │ (<span style=\"color: #00d7ff; text-decoration-color: #00d7ff\">None</span>, <span style=\"color: #00af00; text-decoration-color: #00af00\">1</span>)                 │         <span style=\"color: #00af00; text-decoration-color: #00af00\">25</span> │\n",
       "├─────────────────────────────────┼───────────────────────────┼────────────┤\n",
       "│ batch_normalization             │ (<span style=\"color: #00d7ff; text-decoration-color: #00d7ff\">None</span>, <span style=\"color: #00af00; text-decoration-color: #00af00\">1</span>)                 │          <span style=\"color: #00af00; text-decoration-color: #00af00\">4</span> │\n",
       "│ (<span style=\"color: #0087ff; text-decoration-color: #0087ff\">BatchNormalization</span>)            │                           │            │\n",
       "├─────────────────────────────────┼───────────────────────────┼────────────┤\n",
       "│ leaky_re_lu (<span style=\"color: #0087ff; text-decoration-color: #0087ff\">LeakyReLU</span>)         │ (<span style=\"color: #00d7ff; text-decoration-color: #00d7ff\">None</span>, <span style=\"color: #00af00; text-decoration-color: #00af00\">1</span>)                 │          <span style=\"color: #00af00; text-decoration-color: #00af00\">0</span> │\n",
       "├─────────────────────────────────┼───────────────────────────┼────────────┤\n",
       "│ batch_normalization_1           │ (<span style=\"color: #00d7ff; text-decoration-color: #00d7ff\">None</span>, <span style=\"color: #00af00; text-decoration-color: #00af00\">1</span>)                 │          <span style=\"color: #00af00; text-decoration-color: #00af00\">4</span> │\n",
       "│ (<span style=\"color: #0087ff; text-decoration-color: #0087ff\">BatchNormalization</span>)            │                           │            │\n",
       "├─────────────────────────────────┼───────────────────────────┼────────────┤\n",
       "│ dense (<span style=\"color: #0087ff; text-decoration-color: #0087ff\">Dense</span>)                   │ (<span style=\"color: #00d7ff; text-decoration-color: #00d7ff\">None</span>, <span style=\"color: #00af00; text-decoration-color: #00af00\">16</span>)                │         <span style=\"color: #00af00; text-decoration-color: #00af00\">32</span> │\n",
       "├─────────────────────────────────┼───────────────────────────┼────────────┤\n",
       "│ leaky_re_lu_1 (<span style=\"color: #0087ff; text-decoration-color: #0087ff\">LeakyReLU</span>)       │ (<span style=\"color: #00d7ff; text-decoration-color: #00d7ff\">None</span>, <span style=\"color: #00af00; text-decoration-color: #00af00\">16</span>)                │          <span style=\"color: #00af00; text-decoration-color: #00af00\">0</span> │\n",
       "├─────────────────────────────────┼───────────────────────────┼────────────┤\n",
       "│ batch_normalization_2           │ (<span style=\"color: #00d7ff; text-decoration-color: #00d7ff\">None</span>, <span style=\"color: #00af00; text-decoration-color: #00af00\">16</span>)                │         <span style=\"color: #00af00; text-decoration-color: #00af00\">64</span> │\n",
       "│ (<span style=\"color: #0087ff; text-decoration-color: #0087ff\">BatchNormalization</span>)            │                           │            │\n",
       "├─────────────────────────────────┼───────────────────────────┼────────────┤\n",
       "│ dropout (<span style=\"color: #0087ff; text-decoration-color: #0087ff\">Dropout</span>)               │ (<span style=\"color: #00d7ff; text-decoration-color: #00d7ff\">None</span>, <span style=\"color: #00af00; text-decoration-color: #00af00\">16</span>)                │          <span style=\"color: #00af00; text-decoration-color: #00af00\">0</span> │\n",
       "├─────────────────────────────────┼───────────────────────────┼────────────┤\n",
       "│ dense_1 (<span style=\"color: #0087ff; text-decoration-color: #0087ff\">Dense</span>)                 │ (<span style=\"color: #00d7ff; text-decoration-color: #00d7ff\">None</span>, <span style=\"color: #00af00; text-decoration-color: #00af00\">32</span>)                │        <span style=\"color: #00af00; text-decoration-color: #00af00\">544</span> │\n",
       "├─────────────────────────────────┼───────────────────────────┼────────────┤\n",
       "│ leaky_re_lu_2 (<span style=\"color: #0087ff; text-decoration-color: #0087ff\">LeakyReLU</span>)       │ (<span style=\"color: #00d7ff; text-decoration-color: #00d7ff\">None</span>, <span style=\"color: #00af00; text-decoration-color: #00af00\">32</span>)                │          <span style=\"color: #00af00; text-decoration-color: #00af00\">0</span> │\n",
       "├─────────────────────────────────┼───────────────────────────┼────────────┤\n",
       "│ batch_normalization_3           │ (<span style=\"color: #00d7ff; text-decoration-color: #00d7ff\">None</span>, <span style=\"color: #00af00; text-decoration-color: #00af00\">32</span>)                │        <span style=\"color: #00af00; text-decoration-color: #00af00\">128</span> │\n",
       "│ (<span style=\"color: #0087ff; text-decoration-color: #0087ff\">BatchNormalization</span>)            │                           │            │\n",
       "├─────────────────────────────────┼───────────────────────────┼────────────┤\n",
       "│ dropout_1 (<span style=\"color: #0087ff; text-decoration-color: #0087ff\">Dropout</span>)             │ (<span style=\"color: #00d7ff; text-decoration-color: #00d7ff\">None</span>, <span style=\"color: #00af00; text-decoration-color: #00af00\">32</span>)                │          <span style=\"color: #00af00; text-decoration-color: #00af00\">0</span> │\n",
       "├─────────────────────────────────┼───────────────────────────┼────────────┤\n",
       "│ dense_2 (<span style=\"color: #0087ff; text-decoration-color: #0087ff\">Dense</span>)                 │ (<span style=\"color: #00d7ff; text-decoration-color: #00d7ff\">None</span>, <span style=\"color: #00af00; text-decoration-color: #00af00\">16</span>)                │        <span style=\"color: #00af00; text-decoration-color: #00af00\">528</span> │\n",
       "├─────────────────────────────────┼───────────────────────────┼────────────┤\n",
       "│ leaky_re_lu_3 (<span style=\"color: #0087ff; text-decoration-color: #0087ff\">LeakyReLU</span>)       │ (<span style=\"color: #00d7ff; text-decoration-color: #00d7ff\">None</span>, <span style=\"color: #00af00; text-decoration-color: #00af00\">16</span>)                │          <span style=\"color: #00af00; text-decoration-color: #00af00\">0</span> │\n",
       "├─────────────────────────────────┼───────────────────────────┼────────────┤\n",
       "│ batch_normalization_4           │ (<span style=\"color: #00d7ff; text-decoration-color: #00d7ff\">None</span>, <span style=\"color: #00af00; text-decoration-color: #00af00\">16</span>)                │         <span style=\"color: #00af00; text-decoration-color: #00af00\">64</span> │\n",
       "│ (<span style=\"color: #0087ff; text-decoration-color: #0087ff\">BatchNormalization</span>)            │                           │            │\n",
       "├─────────────────────────────────┼───────────────────────────┼────────────┤\n",
       "│ dense_3 (<span style=\"color: #0087ff; text-decoration-color: #0087ff\">Dense</span>)                 │ (<span style=\"color: #00d7ff; text-decoration-color: #00d7ff\">None</span>, <span style=\"color: #00af00; text-decoration-color: #00af00\">32</span>)                │        <span style=\"color: #00af00; text-decoration-color: #00af00\">544</span> │\n",
       "├─────────────────────────────────┼───────────────────────────┼────────────┤\n",
       "│ leaky_re_lu_4 (<span style=\"color: #0087ff; text-decoration-color: #0087ff\">LeakyReLU</span>)       │ (<span style=\"color: #00d7ff; text-decoration-color: #00d7ff\">None</span>, <span style=\"color: #00af00; text-decoration-color: #00af00\">32</span>)                │          <span style=\"color: #00af00; text-decoration-color: #00af00\">0</span> │\n",
       "├─────────────────────────────────┼───────────────────────────┼────────────┤\n",
       "│ batch_normalization_5           │ (<span style=\"color: #00d7ff; text-decoration-color: #00d7ff\">None</span>, <span style=\"color: #00af00; text-decoration-color: #00af00\">32</span>)                │        <span style=\"color: #00af00; text-decoration-color: #00af00\">128</span> │\n",
       "│ (<span style=\"color: #0087ff; text-decoration-color: #0087ff\">BatchNormalization</span>)            │                           │            │\n",
       "├─────────────────────────────────┼───────────────────────────┼────────────┤\n",
       "│ dropout_2 (<span style=\"color: #0087ff; text-decoration-color: #0087ff\">Dropout</span>)             │ (<span style=\"color: #00d7ff; text-decoration-color: #00d7ff\">None</span>, <span style=\"color: #00af00; text-decoration-color: #00af00\">32</span>)                │          <span style=\"color: #00af00; text-decoration-color: #00af00\">0</span> │\n",
       "├─────────────────────────────────┼───────────────────────────┼────────────┤\n",
       "│ dense_4 (<span style=\"color: #0087ff; text-decoration-color: #0087ff\">Dense</span>)                 │ (<span style=\"color: #00d7ff; text-decoration-color: #00d7ff\">None</span>, <span style=\"color: #00af00; text-decoration-color: #00af00\">16</span>)                │        <span style=\"color: #00af00; text-decoration-color: #00af00\">528</span> │\n",
       "├─────────────────────────────────┼───────────────────────────┼────────────┤\n",
       "│ leaky_re_lu_5 (<span style=\"color: #0087ff; text-decoration-color: #0087ff\">LeakyReLU</span>)       │ (<span style=\"color: #00d7ff; text-decoration-color: #00d7ff\">None</span>, <span style=\"color: #00af00; text-decoration-color: #00af00\">16</span>)                │          <span style=\"color: #00af00; text-decoration-color: #00af00\">0</span> │\n",
       "├─────────────────────────────────┼───────────────────────────┼────────────┤\n",
       "│ batch_normalization_6           │ (<span style=\"color: #00d7ff; text-decoration-color: #00d7ff\">None</span>, <span style=\"color: #00af00; text-decoration-color: #00af00\">16</span>)                │         <span style=\"color: #00af00; text-decoration-color: #00af00\">64</span> │\n",
       "│ (<span style=\"color: #0087ff; text-decoration-color: #0087ff\">BatchNormalization</span>)            │                           │            │\n",
       "├─────────────────────────────────┼───────────────────────────┼────────────┤\n",
       "│ saida (<span style=\"color: #0087ff; text-decoration-color: #0087ff\">Dense</span>)                   │ (<span style=\"color: #00d7ff; text-decoration-color: #00d7ff\">None</span>, <span style=\"color: #00af00; text-decoration-color: #00af00\">1</span>)                 │         <span style=\"color: #00af00; text-decoration-color: #00af00\">17</span> │\n",
       "└─────────────────────────────────┴───────────────────────────┴────────────┘\n",
       "</pre>\n"
      ],
      "text/plain": [
       "┏━━━━━━━━━━━━━━━━━━━━━━━━━━━━━━━━━┳━━━━━━━━━━━━━━━━━━━━━━━━━━━┳━━━━━━━━━━━━┓\n",
       "┃\u001b[1m \u001b[0m\u001b[1mLayer (type)                   \u001b[0m\u001b[1m \u001b[0m┃\u001b[1m \u001b[0m\u001b[1mOutput Shape             \u001b[0m\u001b[1m \u001b[0m┃\u001b[1m \u001b[0m\u001b[1m   Param #\u001b[0m\u001b[1m \u001b[0m┃\n",
       "┡━━━━━━━━━━━━━━━━━━━━━━━━━━━━━━━━━╇━━━━━━━━━━━━━━━━━━━━━━━━━━━╇━━━━━━━━━━━━┩\n",
       "│ entrada (\u001b[38;5;33mDense\u001b[0m)                 │ (\u001b[38;5;45mNone\u001b[0m, \u001b[38;5;34m1\u001b[0m)                 │         \u001b[38;5;34m25\u001b[0m │\n",
       "├─────────────────────────────────┼───────────────────────────┼────────────┤\n",
       "│ batch_normalization             │ (\u001b[38;5;45mNone\u001b[0m, \u001b[38;5;34m1\u001b[0m)                 │          \u001b[38;5;34m4\u001b[0m │\n",
       "│ (\u001b[38;5;33mBatchNormalization\u001b[0m)            │                           │            │\n",
       "├─────────────────────────────────┼───────────────────────────┼────────────┤\n",
       "│ leaky_re_lu (\u001b[38;5;33mLeakyReLU\u001b[0m)         │ (\u001b[38;5;45mNone\u001b[0m, \u001b[38;5;34m1\u001b[0m)                 │          \u001b[38;5;34m0\u001b[0m │\n",
       "├─────────────────────────────────┼───────────────────────────┼────────────┤\n",
       "│ batch_normalization_1           │ (\u001b[38;5;45mNone\u001b[0m, \u001b[38;5;34m1\u001b[0m)                 │          \u001b[38;5;34m4\u001b[0m │\n",
       "│ (\u001b[38;5;33mBatchNormalization\u001b[0m)            │                           │            │\n",
       "├─────────────────────────────────┼───────────────────────────┼────────────┤\n",
       "│ dense (\u001b[38;5;33mDense\u001b[0m)                   │ (\u001b[38;5;45mNone\u001b[0m, \u001b[38;5;34m16\u001b[0m)                │         \u001b[38;5;34m32\u001b[0m │\n",
       "├─────────────────────────────────┼───────────────────────────┼────────────┤\n",
       "│ leaky_re_lu_1 (\u001b[38;5;33mLeakyReLU\u001b[0m)       │ (\u001b[38;5;45mNone\u001b[0m, \u001b[38;5;34m16\u001b[0m)                │          \u001b[38;5;34m0\u001b[0m │\n",
       "├─────────────────────────────────┼───────────────────────────┼────────────┤\n",
       "│ batch_normalization_2           │ (\u001b[38;5;45mNone\u001b[0m, \u001b[38;5;34m16\u001b[0m)                │         \u001b[38;5;34m64\u001b[0m │\n",
       "│ (\u001b[38;5;33mBatchNormalization\u001b[0m)            │                           │            │\n",
       "├─────────────────────────────────┼───────────────────────────┼────────────┤\n",
       "│ dropout (\u001b[38;5;33mDropout\u001b[0m)               │ (\u001b[38;5;45mNone\u001b[0m, \u001b[38;5;34m16\u001b[0m)                │          \u001b[38;5;34m0\u001b[0m │\n",
       "├─────────────────────────────────┼───────────────────────────┼────────────┤\n",
       "│ dense_1 (\u001b[38;5;33mDense\u001b[0m)                 │ (\u001b[38;5;45mNone\u001b[0m, \u001b[38;5;34m32\u001b[0m)                │        \u001b[38;5;34m544\u001b[0m │\n",
       "├─────────────────────────────────┼───────────────────────────┼────────────┤\n",
       "│ leaky_re_lu_2 (\u001b[38;5;33mLeakyReLU\u001b[0m)       │ (\u001b[38;5;45mNone\u001b[0m, \u001b[38;5;34m32\u001b[0m)                │          \u001b[38;5;34m0\u001b[0m │\n",
       "├─────────────────────────────────┼───────────────────────────┼────────────┤\n",
       "│ batch_normalization_3           │ (\u001b[38;5;45mNone\u001b[0m, \u001b[38;5;34m32\u001b[0m)                │        \u001b[38;5;34m128\u001b[0m │\n",
       "│ (\u001b[38;5;33mBatchNormalization\u001b[0m)            │                           │            │\n",
       "├─────────────────────────────────┼───────────────────────────┼────────────┤\n",
       "│ dropout_1 (\u001b[38;5;33mDropout\u001b[0m)             │ (\u001b[38;5;45mNone\u001b[0m, \u001b[38;5;34m32\u001b[0m)                │          \u001b[38;5;34m0\u001b[0m │\n",
       "├─────────────────────────────────┼───────────────────────────┼────────────┤\n",
       "│ dense_2 (\u001b[38;5;33mDense\u001b[0m)                 │ (\u001b[38;5;45mNone\u001b[0m, \u001b[38;5;34m16\u001b[0m)                │        \u001b[38;5;34m528\u001b[0m │\n",
       "├─────────────────────────────────┼───────────────────────────┼────────────┤\n",
       "│ leaky_re_lu_3 (\u001b[38;5;33mLeakyReLU\u001b[0m)       │ (\u001b[38;5;45mNone\u001b[0m, \u001b[38;5;34m16\u001b[0m)                │          \u001b[38;5;34m0\u001b[0m │\n",
       "├─────────────────────────────────┼───────────────────────────┼────────────┤\n",
       "│ batch_normalization_4           │ (\u001b[38;5;45mNone\u001b[0m, \u001b[38;5;34m16\u001b[0m)                │         \u001b[38;5;34m64\u001b[0m │\n",
       "│ (\u001b[38;5;33mBatchNormalization\u001b[0m)            │                           │            │\n",
       "├─────────────────────────────────┼───────────────────────────┼────────────┤\n",
       "│ dense_3 (\u001b[38;5;33mDense\u001b[0m)                 │ (\u001b[38;5;45mNone\u001b[0m, \u001b[38;5;34m32\u001b[0m)                │        \u001b[38;5;34m544\u001b[0m │\n",
       "├─────────────────────────────────┼───────────────────────────┼────────────┤\n",
       "│ leaky_re_lu_4 (\u001b[38;5;33mLeakyReLU\u001b[0m)       │ (\u001b[38;5;45mNone\u001b[0m, \u001b[38;5;34m32\u001b[0m)                │          \u001b[38;5;34m0\u001b[0m │\n",
       "├─────────────────────────────────┼───────────────────────────┼────────────┤\n",
       "│ batch_normalization_5           │ (\u001b[38;5;45mNone\u001b[0m, \u001b[38;5;34m32\u001b[0m)                │        \u001b[38;5;34m128\u001b[0m │\n",
       "│ (\u001b[38;5;33mBatchNormalization\u001b[0m)            │                           │            │\n",
       "├─────────────────────────────────┼───────────────────────────┼────────────┤\n",
       "│ dropout_2 (\u001b[38;5;33mDropout\u001b[0m)             │ (\u001b[38;5;45mNone\u001b[0m, \u001b[38;5;34m32\u001b[0m)                │          \u001b[38;5;34m0\u001b[0m │\n",
       "├─────────────────────────────────┼───────────────────────────┼────────────┤\n",
       "│ dense_4 (\u001b[38;5;33mDense\u001b[0m)                 │ (\u001b[38;5;45mNone\u001b[0m, \u001b[38;5;34m16\u001b[0m)                │        \u001b[38;5;34m528\u001b[0m │\n",
       "├─────────────────────────────────┼───────────────────────────┼────────────┤\n",
       "│ leaky_re_lu_5 (\u001b[38;5;33mLeakyReLU\u001b[0m)       │ (\u001b[38;5;45mNone\u001b[0m, \u001b[38;5;34m16\u001b[0m)                │          \u001b[38;5;34m0\u001b[0m │\n",
       "├─────────────────────────────────┼───────────────────────────┼────────────┤\n",
       "│ batch_normalization_6           │ (\u001b[38;5;45mNone\u001b[0m, \u001b[38;5;34m16\u001b[0m)                │         \u001b[38;5;34m64\u001b[0m │\n",
       "│ (\u001b[38;5;33mBatchNormalization\u001b[0m)            │                           │            │\n",
       "├─────────────────────────────────┼───────────────────────────┼────────────┤\n",
       "│ saida (\u001b[38;5;33mDense\u001b[0m)                   │ (\u001b[38;5;45mNone\u001b[0m, \u001b[38;5;34m1\u001b[0m)                 │         \u001b[38;5;34m17\u001b[0m │\n",
       "└─────────────────────────────────┴───────────────────────────┴────────────┘\n"
      ]
     },
     "metadata": {},
     "output_type": "display_data"
    },
    {
     "data": {
      "text/html": [
       "<pre style=\"white-space:pre;overflow-x:auto;line-height:normal;font-family:Menlo,'DejaVu Sans Mono',consolas,'Courier New',monospace\"><span style=\"font-weight: bold\"> Total params: </span><span style=\"color: #00af00; text-decoration-color: #00af00\">2,674</span> (10.45 KB)\n",
       "</pre>\n"
      ],
      "text/plain": [
       "\u001b[1m Total params: \u001b[0m\u001b[38;5;34m2,674\u001b[0m (10.45 KB)\n"
      ]
     },
     "metadata": {},
     "output_type": "display_data"
    },
    {
     "data": {
      "text/html": [
       "<pre style=\"white-space:pre;overflow-x:auto;line-height:normal;font-family:Menlo,'DejaVu Sans Mono',consolas,'Courier New',monospace\"><span style=\"font-weight: bold\"> Trainable params: </span><span style=\"color: #00af00; text-decoration-color: #00af00\">2,446</span> (9.55 KB)\n",
       "</pre>\n"
      ],
      "text/plain": [
       "\u001b[1m Trainable params: \u001b[0m\u001b[38;5;34m2,446\u001b[0m (9.55 KB)\n"
      ]
     },
     "metadata": {},
     "output_type": "display_data"
    },
    {
     "data": {
      "text/html": [
       "<pre style=\"white-space:pre;overflow-x:auto;line-height:normal;font-family:Menlo,'DejaVu Sans Mono',consolas,'Courier New',monospace\"><span style=\"font-weight: bold\"> Non-trainable params: </span><span style=\"color: #00af00; text-decoration-color: #00af00\">228</span> (912.00 B)\n",
       "</pre>\n"
      ],
      "text/plain": [
       "\u001b[1m Non-trainable params: \u001b[0m\u001b[38;5;34m228\u001b[0m (912.00 B)\n"
      ]
     },
     "metadata": {},
     "output_type": "display_data"
    }
   ],
   "source": [
    "adam = keras.optimizers.Adam(learning_rate=.002)\n",
    "\n",
    "modelo.compile(optimizer='adam', loss='binary_crossentropy', metrics=['accuracy'])\n",
    "modelo.summary()"
   ]
  },
  {
   "cell_type": "code",
   "execution_count": 12,
   "metadata": {},
   "outputs": [],
   "source": [
    "callbacks = [\n",
    "    # parar mais cedo se perceber que a rede estagnou e caiu em um mínimo local\n",
    "    keras.callbacks.EarlyStopping(monitor='val_loss'),\n",
    "    \n",
    "    # verificar o checkpoint do nosso modelo que teve o melhor resultado\n",
    "    # salva o modelo nesse filepath monitorando a perda da validação e salvando apenas a melhor epoca\n",
    "    keras.callbacks.ModelCheckpoint(filepath='./modelos/satisfacao_melhor_modelo.keras', monitor='val_loss', save_best_only=True)\n",
    "]"
   ]
  },
  {
   "cell_type": "code",
   "execution_count": 13,
   "metadata": {},
   "outputs": [
    {
     "name": "stdout",
     "output_type": "stream",
     "text": [
      "Epoch 1/100\n",
      "\u001b[1m2267/2267\u001b[0m \u001b[32m━━━━━━━━━━━━━━━━━━━━\u001b[0m\u001b[37m\u001b[0m \u001b[1m37s\u001b[0m 11ms/step - accuracy: 0.5399 - loss: 0.7097 - val_accuracy: 0.4308 - val_loss: 0.7631\n",
      "Epoch 2/100\n",
      "\u001b[1m2267/2267\u001b[0m \u001b[32m━━━━━━━━━━━━━━━━━━━━\u001b[0m\u001b[37m\u001b[0m \u001b[1m21s\u001b[0m 9ms/step - accuracy: 0.5612 - loss: 0.6874 - val_accuracy: 0.5692 - val_loss: 0.7844\n",
      "Epoch 3/100\n",
      "\u001b[1m2267/2267\u001b[0m \u001b[32m━━━━━━━━━━━━━━━━━━━━\u001b[0m\u001b[37m\u001b[0m \u001b[1m23s\u001b[0m 10ms/step - accuracy: 0.5666 - loss: 0.6851 - val_accuracy: 0.5692 - val_loss: 0.7191\n",
      "Epoch 4/100\n",
      "\u001b[1m2267/2267\u001b[0m \u001b[32m━━━━━━━━━━━━━━━━━━━━\u001b[0m\u001b[37m\u001b[0m \u001b[1m25s\u001b[0m 11ms/step - accuracy: 0.5632 - loss: 0.6856 - val_accuracy: 0.5692 - val_loss: 0.6910\n",
      "Epoch 5/100\n",
      "\u001b[1m2267/2267\u001b[0m \u001b[32m━━━━━━━━━━━━━━━━━━━━\u001b[0m\u001b[37m\u001b[0m \u001b[1m21s\u001b[0m 9ms/step - accuracy: 0.5634 - loss: 0.6859 - val_accuracy: 0.5692 - val_loss: 1.4589\n",
      "Epoch 6/100\n",
      "\u001b[1m2267/2267\u001b[0m \u001b[32m━━━━━━━━━━━━━━━━━━━━\u001b[0m\u001b[37m\u001b[0m \u001b[1m22s\u001b[0m 10ms/step - accuracy: 0.5673 - loss: 0.6846 - val_accuracy: 0.5692 - val_loss: 0.6864\n",
      "Epoch 7/100\n",
      "\u001b[1m2267/2267\u001b[0m \u001b[32m━━━━━━━━━━━━━━━━━━━━\u001b[0m\u001b[37m\u001b[0m \u001b[1m26s\u001b[0m 11ms/step - accuracy: 0.5666 - loss: 0.6846 - val_accuracy: 0.5692 - val_loss: 0.6836\n",
      "Epoch 8/100\n",
      "\u001b[1m2267/2267\u001b[0m \u001b[32m━━━━━━━━━━━━━━━━━━━━\u001b[0m\u001b[37m\u001b[0m \u001b[1m23s\u001b[0m 10ms/step - accuracy: 0.5641 - loss: 0.6853 - val_accuracy: 0.5692 - val_loss: 0.6841\n",
      "Epoch 9/100\n",
      "\u001b[1m2267/2267\u001b[0m \u001b[32m━━━━━━━━━━━━━━━━━━━━\u001b[0m\u001b[37m\u001b[0m \u001b[1m23s\u001b[0m 10ms/step - accuracy: 0.5623 - loss: 0.6857 - val_accuracy: 0.5692 - val_loss: 0.6846\n",
      "Epoch 10/100\n",
      "\u001b[1m2267/2267\u001b[0m \u001b[32m━━━━━━━━━━━━━━━━━━━━\u001b[0m\u001b[37m\u001b[0m \u001b[1m24s\u001b[0m 11ms/step - accuracy: 0.5635 - loss: 0.6854 - val_accuracy: 0.4308 - val_loss: 0.7338\n",
      "Epoch 11/100\n",
      "\u001b[1m2267/2267\u001b[0m \u001b[32m━━━━━━━━━━━━━━━━━━━━\u001b[0m\u001b[37m\u001b[0m \u001b[1m23s\u001b[0m 10ms/step - accuracy: 0.5628 - loss: 0.6853 - val_accuracy: 0.5692 - val_loss: 0.6836\n",
      "Epoch 12/100\n",
      "\u001b[1m2267/2267\u001b[0m \u001b[32m━━━━━━━━━━━━━━━━━━━━\u001b[0m\u001b[37m\u001b[0m \u001b[1m23s\u001b[0m 10ms/step - accuracy: 0.5676 - loss: 0.6843 - val_accuracy: 0.5692 - val_loss: 0.8360\n",
      "Epoch 13/100\n",
      "\u001b[1m2267/2267\u001b[0m \u001b[32m━━━━━━━━━━━━━━━━━━━━\u001b[0m\u001b[37m\u001b[0m \u001b[1m24s\u001b[0m 11ms/step - accuracy: 0.5676 - loss: 0.6844 - val_accuracy: 0.5692 - val_loss: 0.6884\n",
      "Epoch 14/100\n",
      "\u001b[1m2267/2267\u001b[0m \u001b[32m━━━━━━━━━━━━━━━━━━━━\u001b[0m\u001b[37m\u001b[0m \u001b[1m25s\u001b[0m 11ms/step - accuracy: 0.5652 - loss: 0.6849 - val_accuracy: 0.5692 - val_loss: 0.6835\n",
      "Epoch 15/100\n",
      "\u001b[1m2267/2267\u001b[0m \u001b[32m━━━━━━━━━━━━━━━━━━━━\u001b[0m\u001b[37m\u001b[0m \u001b[1m26s\u001b[0m 12ms/step - accuracy: 0.5642 - loss: 0.6852 - val_accuracy: 0.5692 - val_loss: 0.6837\n",
      "Epoch 16/100\n",
      "\u001b[1m2267/2267\u001b[0m \u001b[32m━━━━━━━━━━━━━━━━━━━━\u001b[0m\u001b[37m\u001b[0m \u001b[1m23s\u001b[0m 10ms/step - accuracy: 0.5632 - loss: 0.6854 - val_accuracy: 0.5692 - val_loss: 0.6844\n",
      "Epoch 17/100\n",
      "\u001b[1m2267/2267\u001b[0m \u001b[32m━━━━━━━━━━━━━━━━━━━━\u001b[0m\u001b[37m\u001b[0m \u001b[1m24s\u001b[0m 11ms/step - accuracy: 0.5665 - loss: 0.6846 - val_accuracy: 0.5692 - val_loss: 0.6837\n",
      "Epoch 18/100\n",
      "\u001b[1m2267/2267\u001b[0m \u001b[32m━━━━━━━━━━━━━━━━━━━━\u001b[0m\u001b[37m\u001b[0m \u001b[1m20s\u001b[0m 9ms/step - accuracy: 0.5658 - loss: 0.6847 - val_accuracy: 0.4308 - val_loss: 0.7031\n",
      "Epoch 19/100\n",
      "\u001b[1m2267/2267\u001b[0m \u001b[32m━━━━━━━━━━━━━━━━━━━━\u001b[0m\u001b[37m\u001b[0m \u001b[1m20s\u001b[0m 9ms/step - accuracy: 0.5668 - loss: 0.6844 - val_accuracy: 0.5692 - val_loss: 0.6864\n",
      "Epoch 20/100\n",
      "\u001b[1m2267/2267\u001b[0m \u001b[32m━━━━━━━━━━━━━━━━━━━━\u001b[0m\u001b[37m\u001b[0m \u001b[1m20s\u001b[0m 9ms/step - accuracy: 0.5646 - loss: 0.6849 - val_accuracy: 0.5692 - val_loss: 0.6837\n",
      "Epoch 21/100\n",
      "\u001b[1m2267/2267\u001b[0m \u001b[32m━━━━━━━━━━━━━━━━━━━━\u001b[0m\u001b[37m\u001b[0m \u001b[1m22s\u001b[0m 10ms/step - accuracy: 0.5650 - loss: 0.6849 - val_accuracy: 0.5692 - val_loss: 0.6835\n",
      "Epoch 22/100\n",
      "\u001b[1m2267/2267\u001b[0m \u001b[32m━━━━━━━━━━━━━━━━━━━━\u001b[0m\u001b[37m\u001b[0m \u001b[1m22s\u001b[0m 10ms/step - accuracy: 0.5633 - loss: 0.6854 - val_accuracy: 0.5692 - val_loss: 0.6835\n",
      "Epoch 23/100\n",
      "\u001b[1m2267/2267\u001b[0m \u001b[32m━━━━━━━━━━━━━━━━━━━━\u001b[0m\u001b[37m\u001b[0m \u001b[1m21s\u001b[0m 9ms/step - accuracy: 0.5644 - loss: 0.6850 - val_accuracy: 0.5692 - val_loss: 0.6836\n",
      "Epoch 24/100\n",
      "\u001b[1m2267/2267\u001b[0m \u001b[32m━━━━━━━━━━━━━━━━━━━━\u001b[0m\u001b[37m\u001b[0m \u001b[1m20s\u001b[0m 9ms/step - accuracy: 0.5646 - loss: 0.6850 - val_accuracy: 0.5692 - val_loss: 0.6839\n",
      "Epoch 25/100\n",
      "\u001b[1m2267/2267\u001b[0m \u001b[32m━━━━━━━━━━━━━━━━━━━━\u001b[0m\u001b[37m\u001b[0m \u001b[1m20s\u001b[0m 9ms/step - accuracy: 0.5682 - loss: 0.6839 - val_accuracy: 0.5692 - val_loss: 0.6838\n",
      "Epoch 26/100\n",
      "\u001b[1m2267/2267\u001b[0m \u001b[32m━━━━━━━━━━━━━━━━━━━━\u001b[0m\u001b[37m\u001b[0m \u001b[1m20s\u001b[0m 9ms/step - accuracy: 0.5656 - loss: 0.6847 - val_accuracy: 0.5692 - val_loss: 0.6836\n",
      "Epoch 27/100\n",
      "\u001b[1m2267/2267\u001b[0m \u001b[32m━━━━━━━━━━━━━━━━━━━━\u001b[0m\u001b[37m\u001b[0m \u001b[1m20s\u001b[0m 9ms/step - accuracy: 0.5655 - loss: 0.6847 - val_accuracy: 0.5692 - val_loss: 0.6843\n",
      "Epoch 28/100\n",
      "\u001b[1m2267/2267\u001b[0m \u001b[32m━━━━━━━━━━━━━━━━━━━━\u001b[0m\u001b[37m\u001b[0m \u001b[1m22s\u001b[0m 10ms/step - accuracy: 0.5639 - loss: 0.6851 - val_accuracy: 0.5692 - val_loss: 0.6836\n",
      "Epoch 29/100\n",
      "\u001b[1m2267/2267\u001b[0m \u001b[32m━━━━━━━━━━━━━━━━━━━━\u001b[0m\u001b[37m\u001b[0m \u001b[1m22s\u001b[0m 10ms/step - accuracy: 0.5673 - loss: 0.6842 - val_accuracy: 0.5692 - val_loss: 0.6840\n",
      "Epoch 30/100\n",
      "\u001b[1m2267/2267\u001b[0m \u001b[32m━━━━━━━━━━━━━━━━━━━━\u001b[0m\u001b[37m\u001b[0m \u001b[1m21s\u001b[0m 9ms/step - accuracy: 0.5631 - loss: 0.6853 - val_accuracy: 0.5692 - val_loss: 0.6835\n",
      "Epoch 31/100\n",
      "\u001b[1m2267/2267\u001b[0m \u001b[32m━━━━━━━━━━━━━━━━━━━━\u001b[0m\u001b[37m\u001b[0m \u001b[1m29s\u001b[0m 13ms/step - accuracy: 0.5646 - loss: 0.6849 - val_accuracy: 0.5692 - val_loss: 0.6843\n",
      "Epoch 32/100\n",
      "\u001b[1m2267/2267\u001b[0m \u001b[32m━━━━━━━━━━━━━━━━━━━━\u001b[0m\u001b[37m\u001b[0m \u001b[1m24s\u001b[0m 10ms/step - accuracy: 0.5641 - loss: 0.6851 - val_accuracy: 0.5692 - val_loss: 0.6835\n",
      "Epoch 33/100\n",
      "\u001b[1m2267/2267\u001b[0m \u001b[32m━━━━━━━━━━━━━━━━━━━━\u001b[0m\u001b[37m\u001b[0m \u001b[1m24s\u001b[0m 11ms/step - accuracy: 0.5657 - loss: 0.6846 - val_accuracy: 0.5692 - val_loss: 0.6835\n",
      "Epoch 34/100\n",
      "\u001b[1m2267/2267\u001b[0m \u001b[32m━━━━━━━━━━━━━━━━━━━━\u001b[0m\u001b[37m\u001b[0m \u001b[1m21s\u001b[0m 9ms/step - accuracy: 0.5655 - loss: 0.6846 - val_accuracy: 0.5692 - val_loss: 0.6836\n",
      "Epoch 35/100\n",
      "\u001b[1m2267/2267\u001b[0m \u001b[32m━━━━━━━━━━━━━━━━━━━━\u001b[0m\u001b[37m\u001b[0m \u001b[1m26s\u001b[0m 12ms/step - accuracy: 0.5627 - loss: 0.6854 - val_accuracy: 0.5692 - val_loss: 0.6840\n",
      "Epoch 36/100\n",
      "\u001b[1m2267/2267\u001b[0m \u001b[32m━━━━━━━━━━━━━━━━━━━━\u001b[0m\u001b[37m\u001b[0m \u001b[1m25s\u001b[0m 11ms/step - accuracy: 0.5671 - loss: 0.6843 - val_accuracy: 0.5692 - val_loss: 0.6835\n",
      "Epoch 37/100\n",
      "\u001b[1m2267/2267\u001b[0m \u001b[32m━━━━━━━━━━━━━━━━━━━━\u001b[0m\u001b[37m\u001b[0m \u001b[1m32s\u001b[0m 14ms/step - accuracy: 0.5683 - loss: 0.6839 - val_accuracy: 0.5692 - val_loss: 0.6837\n",
      "Epoch 38/100\n",
      "\u001b[1m2267/2267\u001b[0m \u001b[32m━━━━━━━━━━━━━━━━━━━━\u001b[0m\u001b[37m\u001b[0m \u001b[1m31s\u001b[0m 14ms/step - accuracy: 0.5650 - loss: 0.6848 - val_accuracy: 0.5692 - val_loss: 0.6835\n",
      "Epoch 39/100\n",
      "\u001b[1m2267/2267\u001b[0m \u001b[32m━━━━━━━━━━━━━━━━━━━━\u001b[0m\u001b[37m\u001b[0m \u001b[1m31s\u001b[0m 14ms/step - accuracy: 0.5666 - loss: 0.6843 - val_accuracy: 0.5692 - val_loss: 0.6868\n",
      "Epoch 40/100\n",
      "\u001b[1m2267/2267\u001b[0m \u001b[32m━━━━━━━━━━━━━━━━━━━━\u001b[0m\u001b[37m\u001b[0m \u001b[1m33s\u001b[0m 14ms/step - accuracy: 0.5632 - loss: 0.6853 - val_accuracy: 0.5692 - val_loss: 0.6835\n",
      "Epoch 41/100\n",
      "\u001b[1m2267/2267\u001b[0m \u001b[32m━━━━━━━━━━━━━━━━━━━━\u001b[0m\u001b[37m\u001b[0m \u001b[1m28s\u001b[0m 12ms/step - accuracy: 0.5627 - loss: 0.6853 - val_accuracy: 0.5692 - val_loss: 0.6835\n",
      "Epoch 42/100\n",
      "\u001b[1m2267/2267\u001b[0m \u001b[32m━━━━━━━━━━━━━━━━━━━━\u001b[0m\u001b[37m\u001b[0m \u001b[1m24s\u001b[0m 10ms/step - accuracy: 0.5687 - loss: 0.6837 - val_accuracy: 0.5692 - val_loss: 0.6838\n",
      "Epoch 43/100\n",
      "\u001b[1m2267/2267\u001b[0m \u001b[32m━━━━━━━━━━━━━━━━━━━━\u001b[0m\u001b[37m\u001b[0m \u001b[1m18s\u001b[0m 8ms/step - accuracy: 0.5658 - loss: 0.6846 - val_accuracy: 0.5692 - val_loss: 0.6835\n",
      "Epoch 44/100\n",
      "\u001b[1m2267/2267\u001b[0m \u001b[32m━━━━━━━━━━━━━━━━━━━━\u001b[0m\u001b[37m\u001b[0m \u001b[1m20s\u001b[0m 9ms/step - accuracy: 0.5652 - loss: 0.6847 - val_accuracy: 0.5692 - val_loss: 0.6842\n",
      "Epoch 45/100\n",
      "\u001b[1m2267/2267\u001b[0m \u001b[32m━━━━━━━━━━━━━━━━━━━━\u001b[0m\u001b[37m\u001b[0m \u001b[1m21s\u001b[0m 9ms/step - accuracy: 0.5642 - loss: 0.6850 - val_accuracy: 0.5692 - val_loss: 0.6836\n",
      "Epoch 46/100\n",
      "\u001b[1m2267/2267\u001b[0m \u001b[32m━━━━━━━━━━━━━━━━━━━━\u001b[0m\u001b[37m\u001b[0m \u001b[1m21s\u001b[0m 9ms/step - accuracy: 0.5645 - loss: 0.6849 - val_accuracy: 0.5692 - val_loss: 0.6835\n",
      "Epoch 47/100\n",
      "\u001b[1m2267/2267\u001b[0m \u001b[32m━━━━━━━━━━━━━━━━━━━━\u001b[0m\u001b[37m\u001b[0m \u001b[1m21s\u001b[0m 9ms/step - accuracy: 0.5660 - loss: 0.6844 - val_accuracy: 0.5692 - val_loss: 0.6835\n",
      "Epoch 48/100\n",
      "\u001b[1m2267/2267\u001b[0m \u001b[32m━━━━━━━━━━━━━━━━━━━━\u001b[0m\u001b[37m\u001b[0m \u001b[1m21s\u001b[0m 9ms/step - accuracy: 0.5657 - loss: 0.6846 - val_accuracy: 0.5692 - val_loss: 0.6836\n",
      "Epoch 49/100\n",
      "\u001b[1m2267/2267\u001b[0m \u001b[32m━━━━━━━━━━━━━━━━━━━━\u001b[0m\u001b[37m\u001b[0m \u001b[1m21s\u001b[0m 9ms/step - accuracy: 0.5641 - loss: 0.6850 - val_accuracy: 0.5692 - val_loss: 0.6836\n",
      "Epoch 50/100\n",
      "\u001b[1m2267/2267\u001b[0m \u001b[32m━━━━━━━━━━━━━━━━━━━━\u001b[0m\u001b[37m\u001b[0m \u001b[1m20s\u001b[0m 9ms/step - accuracy: 0.5672 - loss: 0.6841 - val_accuracy: 0.5692 - val_loss: 0.6835\n",
      "Epoch 51/100\n",
      "\u001b[1m2267/2267\u001b[0m \u001b[32m━━━━━━━━━━━━━━━━━━━━\u001b[0m\u001b[37m\u001b[0m \u001b[1m21s\u001b[0m 9ms/step - accuracy: 0.5644 - loss: 0.6849 - val_accuracy: 0.5692 - val_loss: 0.6835\n",
      "Epoch 52/100\n",
      "\u001b[1m2267/2267\u001b[0m \u001b[32m━━━━━━━━━━━━━━━━━━━━\u001b[0m\u001b[37m\u001b[0m \u001b[1m21s\u001b[0m 9ms/step - accuracy: 0.5655 - loss: 0.6846 - val_accuracy: 0.5692 - val_loss: 0.6835\n",
      "Epoch 53/100\n",
      "\u001b[1m2267/2267\u001b[0m \u001b[32m━━━━━━━━━━━━━━━━━━━━\u001b[0m\u001b[37m\u001b[0m \u001b[1m42s\u001b[0m 10ms/step - accuracy: 0.5639 - loss: 0.6850 - val_accuracy: 0.5692 - val_loss: 0.6835\n",
      "Epoch 54/100\n",
      "\u001b[1m2267/2267\u001b[0m \u001b[32m━━━━━━━━━━━━━━━━━━━━\u001b[0m\u001b[37m\u001b[0m \u001b[1m23s\u001b[0m 10ms/step - accuracy: 0.5653 - loss: 0.6847 - val_accuracy: 0.5692 - val_loss: 0.6835\n",
      "Epoch 55/100\n",
      "\u001b[1m2267/2267\u001b[0m \u001b[32m━━━━━━━━━━━━━━━━━━━━\u001b[0m\u001b[37m\u001b[0m \u001b[1m22s\u001b[0m 10ms/step - accuracy: 0.5646 - loss: 0.6848 - val_accuracy: 0.5692 - val_loss: 0.6836\n",
      "Epoch 56/100\n",
      "\u001b[1m2267/2267\u001b[0m \u001b[32m━━━━━━━━━━━━━━━━━━━━\u001b[0m\u001b[37m\u001b[0m \u001b[1m22s\u001b[0m 10ms/step - accuracy: 0.5648 - loss: 0.6847 - val_accuracy: 0.5692 - val_loss: 0.6835\n",
      "Epoch 57/100\n",
      "\u001b[1m2267/2267\u001b[0m \u001b[32m━━━━━━━━━━━━━━━━━━━━\u001b[0m\u001b[37m\u001b[0m \u001b[1m22s\u001b[0m 10ms/step - accuracy: 0.5627 - loss: 0.6854 - val_accuracy: 0.5692 - val_loss: 0.6835\n",
      "Epoch 58/100\n",
      "\u001b[1m2267/2267\u001b[0m \u001b[32m━━━━━━━━━━━━━━━━━━━━\u001b[0m\u001b[37m\u001b[0m \u001b[1m21s\u001b[0m 9ms/step - accuracy: 0.5649 - loss: 0.6848 - val_accuracy: 0.5692 - val_loss: 0.6836\n",
      "Epoch 59/100\n",
      "\u001b[1m2267/2267\u001b[0m \u001b[32m━━━━━━━━━━━━━━━━━━━━\u001b[0m\u001b[37m\u001b[0m \u001b[1m22s\u001b[0m 10ms/step - accuracy: 0.5651 - loss: 0.6847 - val_accuracy: 0.5692 - val_loss: 0.6837\n",
      "Epoch 60/100\n",
      "\u001b[1m2267/2267\u001b[0m \u001b[32m━━━━━━━━━━━━━━━━━━━━\u001b[0m\u001b[37m\u001b[0m \u001b[1m42s\u001b[0m 10ms/step - accuracy: 0.5659 - loss: 0.6845 - val_accuracy: 0.5692 - val_loss: 0.6836\n",
      "Epoch 61/100\n",
      "\u001b[1m2267/2267\u001b[0m \u001b[32m━━━━━━━━━━━━━━━━━━━━\u001b[0m\u001b[37m\u001b[0m \u001b[1m22s\u001b[0m 10ms/step - accuracy: 0.5687 - loss: 0.6837 - val_accuracy: 0.5692 - val_loss: 0.6836\n",
      "Epoch 62/100\n",
      "\u001b[1m2267/2267\u001b[0m \u001b[32m━━━━━━━━━━━━━━━━━━━━\u001b[0m\u001b[37m\u001b[0m \u001b[1m21s\u001b[0m 9ms/step - accuracy: 0.5659 - loss: 0.6845 - val_accuracy: 0.5692 - val_loss: 0.6835\n",
      "Epoch 63/100\n",
      "\u001b[1m2267/2267\u001b[0m \u001b[32m━━━━━━━━━━━━━━━━━━━━\u001b[0m\u001b[37m\u001b[0m \u001b[1m21s\u001b[0m 9ms/step - accuracy: 0.5662 - loss: 0.6844 - val_accuracy: 0.5692 - val_loss: 0.6835\n",
      "Epoch 64/100\n",
      "\u001b[1m2267/2267\u001b[0m \u001b[32m━━━━━━━━━━━━━━━━━━━━\u001b[0m\u001b[37m\u001b[0m \u001b[1m21s\u001b[0m 9ms/step - accuracy: 0.5650 - loss: 0.6847 - val_accuracy: 0.5692 - val_loss: 0.6836\n",
      "Epoch 65/100\n",
      "\u001b[1m2267/2267\u001b[0m \u001b[32m━━━━━━━━━━━━━━━━━━━━\u001b[0m\u001b[37m\u001b[0m \u001b[1m27s\u001b[0m 12ms/step - accuracy: 0.5667 - loss: 0.6843 - val_accuracy: 0.5692 - val_loss: 0.6835\n",
      "Epoch 66/100\n",
      "\u001b[1m2267/2267\u001b[0m \u001b[32m━━━━━━━━━━━━━━━━━━━━\u001b[0m\u001b[37m\u001b[0m \u001b[1m29s\u001b[0m 13ms/step - accuracy: 0.5634 - loss: 0.6851 - val_accuracy: 0.5692 - val_loss: 0.6835\n",
      "Epoch 67/100\n",
      "\u001b[1m2267/2267\u001b[0m \u001b[32m━━━━━━━━━━━━━━━━━━━━\u001b[0m\u001b[37m\u001b[0m \u001b[1m31s\u001b[0m 14ms/step - accuracy: 0.5627 - loss: 0.6853 - val_accuracy: 0.5692 - val_loss: 0.6835\n",
      "Epoch 68/100\n",
      "\u001b[1m2267/2267\u001b[0m \u001b[32m━━━━━━━━━━━━━━━━━━━━\u001b[0m\u001b[37m\u001b[0m \u001b[1m34s\u001b[0m 15ms/step - accuracy: 0.5694 - loss: 0.6835 - val_accuracy: 0.5692 - val_loss: 0.6835\n",
      "Epoch 69/100\n",
      "\u001b[1m2267/2267\u001b[0m \u001b[32m━━━━━━━━━━━━━━━━━━━━\u001b[0m\u001b[37m\u001b[0m \u001b[1m32s\u001b[0m 14ms/step - accuracy: 0.5658 - loss: 0.6845 - val_accuracy: 0.5692 - val_loss: 0.6835\n",
      "Epoch 70/100\n",
      "\u001b[1m2267/2267\u001b[0m \u001b[32m━━━━━━━━━━━━━━━━━━━━\u001b[0m\u001b[37m\u001b[0m \u001b[1m32s\u001b[0m 14ms/step - accuracy: 0.5686 - loss: 0.6837 - val_accuracy: 0.5692 - val_loss: 0.6837\n",
      "Epoch 71/100\n",
      "\u001b[1m2267/2267\u001b[0m \u001b[32m━━━━━━━━━━━━━━━━━━━━\u001b[0m\u001b[37m\u001b[0m \u001b[1m32s\u001b[0m 14ms/step - accuracy: 0.5654 - loss: 0.6846 - val_accuracy: 0.5692 - val_loss: 0.6835\n",
      "Epoch 72/100\n",
      "\u001b[1m2267/2267\u001b[0m \u001b[32m━━━━━━━━━━━━━━━━━━━━\u001b[0m\u001b[37m\u001b[0m \u001b[1m30s\u001b[0m 13ms/step - accuracy: 0.5665 - loss: 0.6843 - val_accuracy: 0.5692 - val_loss: 0.6835\n",
      "Epoch 73/100\n",
      "\u001b[1m2267/2267\u001b[0m \u001b[32m━━━━━━━━━━━━━━━━━━━━\u001b[0m\u001b[37m\u001b[0m \u001b[1m31s\u001b[0m 14ms/step - accuracy: 0.5635 - loss: 0.6851 - val_accuracy: 0.5692 - val_loss: 0.6835\n",
      "Epoch 74/100\n",
      "\u001b[1m2267/2267\u001b[0m \u001b[32m━━━━━━━━━━━━━━━━━━━━\u001b[0m\u001b[37m\u001b[0m \u001b[1m29s\u001b[0m 13ms/step - accuracy: 0.5637 - loss: 0.6851 - val_accuracy: 0.5692 - val_loss: 0.6835\n",
      "Epoch 75/100\n",
      "\u001b[1m2267/2267\u001b[0m \u001b[32m━━━━━━━━━━━━━━━━━━━━\u001b[0m\u001b[37m\u001b[0m \u001b[1m31s\u001b[0m 13ms/step - accuracy: 0.5676 - loss: 0.6840 - val_accuracy: 0.5692 - val_loss: 0.6837\n",
      "Epoch 76/100\n",
      "\u001b[1m2267/2267\u001b[0m \u001b[32m━━━━━━━━━━━━━━━━━━━━\u001b[0m\u001b[37m\u001b[0m \u001b[1m30s\u001b[0m 13ms/step - accuracy: 0.5619 - loss: 0.6855 - val_accuracy: 0.5692 - val_loss: 0.6835\n",
      "Epoch 77/100\n",
      "\u001b[1m2267/2267\u001b[0m \u001b[32m━━━━━━━━━━━━━━━━━━━━\u001b[0m\u001b[37m\u001b[0m \u001b[1m28s\u001b[0m 12ms/step - accuracy: 0.5672 - loss: 0.6841 - val_accuracy: 0.4308 - val_loss: 0.7014\n",
      "Epoch 78/100\n",
      "\u001b[1m2267/2267\u001b[0m \u001b[32m━━━━━━━━━━━━━━━━━━━━\u001b[0m\u001b[37m\u001b[0m \u001b[1m26s\u001b[0m 12ms/step - accuracy: 0.5626 - loss: 0.6853 - val_accuracy: 0.5692 - val_loss: 0.6835\n",
      "Epoch 79/100\n",
      "\u001b[1m2267/2267\u001b[0m \u001b[32m━━━━━━━━━━━━━━━━━━━━\u001b[0m\u001b[37m\u001b[0m \u001b[1m21s\u001b[0m 9ms/step - accuracy: 0.5682 - loss: 0.6839 - val_accuracy: 0.5692 - val_loss: 0.6836\n",
      "Epoch 80/100\n",
      "\u001b[1m2267/2267\u001b[0m \u001b[32m━━━━━━━━━━━━━━━━━━━━\u001b[0m\u001b[37m\u001b[0m \u001b[1m24s\u001b[0m 11ms/step - accuracy: 0.5649 - loss: 0.6847 - val_accuracy: 0.5692 - val_loss: 0.6835\n",
      "Epoch 81/100\n",
      "\u001b[1m2267/2267\u001b[0m \u001b[32m━━━━━━━━━━━━━━━━━━━━\u001b[0m\u001b[37m\u001b[0m \u001b[1m23s\u001b[0m 10ms/step - accuracy: 0.5620 - loss: 0.6856 - val_accuracy: 0.5692 - val_loss: 0.6836\n",
      "Epoch 82/100\n",
      "\u001b[1m2267/2267\u001b[0m \u001b[32m━━━━━━━━━━━━━━━━━━━━\u001b[0m\u001b[37m\u001b[0m \u001b[1m24s\u001b[0m 10ms/step - accuracy: 0.5621 - loss: 0.6855 - val_accuracy: 0.5692 - val_loss: 0.6835\n",
      "Epoch 83/100\n",
      "\u001b[1m2267/2267\u001b[0m \u001b[32m━━━━━━━━━━━━━━━━━━━━\u001b[0m\u001b[37m\u001b[0m \u001b[1m24s\u001b[0m 11ms/step - accuracy: 0.5643 - loss: 0.6849 - val_accuracy: 0.5692 - val_loss: 0.6835\n",
      "Epoch 84/100\n",
      "\u001b[1m2267/2267\u001b[0m \u001b[32m━━━━━━━━━━━━━━━━━━━━\u001b[0m\u001b[37m\u001b[0m \u001b[1m27s\u001b[0m 12ms/step - accuracy: 0.5611 - loss: 0.6857 - val_accuracy: 0.5692 - val_loss: 0.6836\n",
      "Epoch 85/100\n",
      "\u001b[1m2267/2267\u001b[0m \u001b[32m━━━━━━━━━━━━━━━━━━━━\u001b[0m\u001b[37m\u001b[0m \u001b[1m30s\u001b[0m 13ms/step - accuracy: 0.5653 - loss: 0.6848 - val_accuracy: 0.5692 - val_loss: 0.6836\n",
      "Epoch 86/100\n",
      "\u001b[1m2267/2267\u001b[0m \u001b[32m━━━━━━━━━━━━━━━━━━━━\u001b[0m\u001b[37m\u001b[0m \u001b[1m24s\u001b[0m 11ms/step - accuracy: 0.5669 - loss: 0.6842 - val_accuracy: 0.5692 - val_loss: 0.6836\n",
      "Epoch 87/100\n",
      "\u001b[1m2267/2267\u001b[0m \u001b[32m━━━━━━━━━━━━━━━━━━━━\u001b[0m\u001b[37m\u001b[0m \u001b[1m22s\u001b[0m 10ms/step - accuracy: 0.5664 - loss: 0.6844 - val_accuracy: 0.5692 - val_loss: 0.6836\n",
      "Epoch 88/100\n",
      "\u001b[1m2267/2267\u001b[0m \u001b[32m━━━━━━━━━━━━━━━━━━━━\u001b[0m\u001b[37m\u001b[0m \u001b[1m23s\u001b[0m 10ms/step - accuracy: 0.5688 - loss: 0.6837 - val_accuracy: 0.5692 - val_loss: 0.6836\n",
      "Epoch 89/100\n",
      "\u001b[1m2267/2267\u001b[0m \u001b[32m━━━━━━━━━━━━━━━━━━━━\u001b[0m\u001b[37m\u001b[0m \u001b[1m25s\u001b[0m 11ms/step - accuracy: 0.5633 - loss: 0.6852 - val_accuracy: 0.5692 - val_loss: 0.6835\n",
      "Epoch 90/100\n",
      "\u001b[1m2267/2267\u001b[0m \u001b[32m━━━━━━━━━━━━━━━━━━━━\u001b[0m\u001b[37m\u001b[0m \u001b[1m24s\u001b[0m 10ms/step - accuracy: 0.5646 - loss: 0.6848 - val_accuracy: 0.5692 - val_loss: 0.6835\n",
      "Epoch 91/100\n",
      "\u001b[1m2267/2267\u001b[0m \u001b[32m━━━━━━━━━━━━━━━━━━━━\u001b[0m\u001b[37m\u001b[0m \u001b[1m24s\u001b[0m 11ms/step - accuracy: 0.5656 - loss: 0.6846 - val_accuracy: 0.5692 - val_loss: 0.6836\n",
      "Epoch 92/100\n",
      "\u001b[1m2267/2267\u001b[0m \u001b[32m━━━━━━━━━━━━━━━━━━━━\u001b[0m\u001b[37m\u001b[0m \u001b[1m32s\u001b[0m 14ms/step - accuracy: 0.5657 - loss: 0.6845 - val_accuracy: 0.5692 - val_loss: 0.6835\n",
      "Epoch 93/100\n",
      "\u001b[1m2267/2267\u001b[0m \u001b[32m━━━━━━━━━━━━━━━━━━━━\u001b[0m\u001b[37m\u001b[0m \u001b[1m27s\u001b[0m 12ms/step - accuracy: 0.5637 - loss: 0.6851 - val_accuracy: 0.5692 - val_loss: 0.6835\n",
      "Epoch 94/100\n",
      "\u001b[1m2267/2267\u001b[0m \u001b[32m━━━━━━━━━━━━━━━━━━━━\u001b[0m\u001b[37m\u001b[0m \u001b[1m21s\u001b[0m 9ms/step - accuracy: 0.5650 - loss: 0.6847 - val_accuracy: 0.5692 - val_loss: 0.6836\n",
      "Epoch 95/100\n",
      "\u001b[1m2267/2267\u001b[0m \u001b[32m━━━━━━━━━━━━━━━━━━━━\u001b[0m\u001b[37m\u001b[0m \u001b[1m21s\u001b[0m 9ms/step - accuracy: 0.5634 - loss: 0.6851 - val_accuracy: 0.5692 - val_loss: 0.6836\n",
      "Epoch 96/100\n",
      "\u001b[1m2267/2267\u001b[0m \u001b[32m━━━━━━━━━━━━━━━━━━━━\u001b[0m\u001b[37m\u001b[0m \u001b[1m20s\u001b[0m 9ms/step - accuracy: 0.5669 - loss: 0.6842 - val_accuracy: 0.5692 - val_loss: 0.6836\n",
      "Epoch 97/100\n",
      "\u001b[1m2267/2267\u001b[0m \u001b[32m━━━━━━━━━━━━━━━━━━━━\u001b[0m\u001b[37m\u001b[0m \u001b[1m26s\u001b[0m 12ms/step - accuracy: 0.5662 - loss: 0.6844 - val_accuracy: 0.5692 - val_loss: 0.6835\n",
      "Epoch 98/100\n",
      "\u001b[1m2267/2267\u001b[0m \u001b[32m━━━━━━━━━━━━━━━━━━━━\u001b[0m\u001b[37m\u001b[0m \u001b[1m22s\u001b[0m 9ms/step - accuracy: 0.5652 - loss: 0.6847 - val_accuracy: 0.5692 - val_loss: 0.6835\n",
      "Epoch 99/100\n",
      "\u001b[1m2267/2267\u001b[0m \u001b[32m━━━━━━━━━━━━━━━━━━━━\u001b[0m\u001b[37m\u001b[0m \u001b[1m20s\u001b[0m 9ms/step - accuracy: 0.5659 - loss: 0.6845 - val_accuracy: 0.5692 - val_loss: 0.6837\n",
      "Epoch 100/100\n",
      "\u001b[1m2267/2267\u001b[0m \u001b[32m━━━━━━━━━━━━━━━━━━━━\u001b[0m\u001b[37m\u001b[0m \u001b[1m24s\u001b[0m 10ms/step - accuracy: 0.5652 - loss: 0.6847 - val_accuracy: 0.5692 - val_loss: 0.6836\n"
     ]
    }
   ],
   "source": [
    "historico = modelo.fit(x_treino, y_treino, epochs=100, validation_split=0.3)"
   ]
  },
  {
   "attachments": {},
   "cell_type": "markdown",
   "metadata": {},
   "source": [
    "## prevendo com modelo"
   ]
  },
  {
   "cell_type": "code",
   "execution_count": 14,
   "metadata": {},
   "outputs": [
    {
     "name": "stdout",
     "output_type": "stream",
     "text": [
      "\u001b[1m810/810\u001b[0m \u001b[32m━━━━━━━━━━━━━━━━━━━━\u001b[0m\u001b[37m\u001b[0m \u001b[1m6s\u001b[0m 6ms/step\n"
     ]
    }
   ],
   "source": [
    "testes = modelo.predict(x_teste)"
   ]
  },
  {
   "cell_type": "code",
   "execution_count": 15,
   "metadata": {},
   "outputs": [
    {
     "name": "stdout",
     "output_type": "stream",
     "text": [
      "resultado teste: 0\n",
      "satisfação do teste: 1\n"
     ]
    }
   ],
   "source": [
    "# avaliação\n",
    "indice = 0\n",
    "print('resultado teste:', np.argmax(testes[indice]))\n",
    "print('satisfação do teste:', y_teste[indice])"
   ]
  },
  {
   "cell_type": "code",
   "execution_count": 16,
   "metadata": {},
   "outputs": [
    {
     "name": "stdout",
     "output_type": "stream",
     "text": [
      "\u001b[1m810/810\u001b[0m \u001b[32m━━━━━━━━━━━━━━━━━━━━\u001b[0m\u001b[37m\u001b[0m \u001b[1m4s\u001b[0m 4ms/step - accuracy: 0.5597 - loss: 0.6862\n",
      "Perda do teste: 0.6857128143310547\n",
      "Acurácia do teste: 0.5610783100128174\n"
     ]
    }
   ],
   "source": [
    "perda, acuracia = modelo.evaluate(x_teste, y_teste)\n",
    "print('Perda do teste:', perda)\n",
    "print('Acurácia do teste:', acuracia)"
   ]
  },
  {
   "cell_type": "code",
   "execution_count": 17,
   "metadata": {},
   "outputs": [
    {
     "data": {
      "text/plain": [
       "<matplotlib.legend.Legend at 0x21916a674d0>"
      ]
     },
     "execution_count": 17,
     "metadata": {},
     "output_type": "execute_result"
    },
    {
     "data": {
      "image/png": "[encoded data removed]",
      "text/plain": [
       "<Figure size 640x480 with 1 Axes>"
      ]
     },
     "metadata": {},
     "output_type": "display_data"
    }
   ],
   "source": [
    "plt.plot(historico.history['accuracy'])\n",
    "plt.plot(historico.history['val_accuracy'])\n",
    "plt.title('Acurácia por épocas')\n",
    "plt.xlabel('épocas')\n",
    "plt.ylabel('acurácia')\n",
    "plt.legend(['treino', 'validação'])"
   ]
  },
  {
   "cell_type": "code",
   "execution_count": 18,
   "metadata": {},
   "outputs": [
    {
     "data": {
      "text/plain": [
       "<matplotlib.legend.Legend at 0x21916b25010>"
      ]
     },
     "execution_count": 18,
     "metadata": {},
     "output_type": "execute_result"
    },
    {
     "data": {
      "image/png": "[encoded data removed]",
      "text/plain": [
       "<Figure size 640x480 with 1 Axes>"
      ]
     },
     "metadata": {},
     "output_type": "display_data"
    }
   ],
   "source": [
    "plt.plot(historico.history['loss'])\n",
    "plt.plot(historico.history['val_loss'])\n",
    "plt.title('Perdas por épocas')\n",
    "plt.xlabel('épocas')\n",
    "plt.ylabel('perdas')\n",
    "plt.legend(['treino', 'validação'])"
   ]
  }
 ],
 "metadata": {
  "kernelspec": {
   "display_name": ".venv",
   "language": "python",
   "name": "python3"
  },
  "language_info": {
   "codemirror_mode": {
    "name": "ipython",
    "version": 3
   },
   "file_extension": ".py",
   "mimetype": "text/x-python",
   "name": "python",
   "nbconvert_exporter": "python",
   "pygments_lexer": "ipython3",
   "version": "3.11.7"
  },
  "orig_nbformat": 4
 },
 "nbformat": 4,
 "nbformat_minor": 2
}
