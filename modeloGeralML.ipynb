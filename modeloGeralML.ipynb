{
  "cells": [
    {
      "cell_type": "markdown",
      "metadata": {
        "colab_type": "text",
        "id": "view-in-github"
      },
      "source": [
        "<a href=\"https://colab.research.google.com/github/vxfontes/machineLearning/blob/main/modeloGeralML.ipynb\" target=\"_parent\"><img src=\"https://colab.research.google.com/assets/colab-badge.svg\" alt=\"Open In Colab\"/></a>"
      ]
    },
    {
      "cell_type": "markdown",
      "metadata": {
        "id": "0IghRDyPXNxc"
      },
      "source": [
        "Área geral de importação"
      ]
    },
    {
      "cell_type": "code",
      "execution_count": null,
      "metadata": {},
      "outputs": [],
      "source": [
        "# importando bibliotecas\n",
        "import pandas as pd\n",
        "import matplotlib.pyplot as plt"
      ]
    },
    {
      "cell_type": "code",
      "execution_count": null,
      "metadata": {
        "id": "yVwPRzk-V_2Y"
      },
      "outputs": [],
      "source": [
        "# importando pandas e conectando com o google colab caso esteja sendo usado\n",
        "# from google.colab import drive\n",
        "# drive.mount('/content/drive') # recuperando a página"
      ]
    },
    {
      "cell_type": "code",
      "execution_count": null,
      "metadata": {
        "id": "_9zvOWCKXRpE"
      },
      "outputs": [],
      "source": [
        "# importando arquivo de analise\n",
        "file_path = '/content/drive/MyDrive/Colab Notebooks/PASTA DO SEU ARQUIVO AQUI;ARQUIVO.CSV'\n",
        "data = pd.read_csv(file_path) # lendo arquivo e armazenando na variável dataset"
      ]
    },
    {
      "cell_type": "code",
      "execution_count": null,
      "metadata": {},
      "outputs": [],
      "source": [
        "#caso seja arquivo armazenado no computador\n",
        "file_path = 'PASTA DO SEU ARQUIVO AQUI;ARQUIVO.CSV'\n",
        "data = pd.read_csv(file_path)"
      ]
    },
    {
      "cell_type": "markdown",
      "metadata": {
        "id": "IPErqqL6Xd0w"
      },
      "source": [
        "## Fazendo análise da base de dados\n"
      ]
    },
    {
      "cell_type": "code",
      "execution_count": null,
      "metadata": {
        "id": "AakcwNeqXdfW"
      },
      "outputs": [],
      "source": [
        "# exibindo tuplas iniciais, finais e quantidade de colunas\n",
        "display(data)"
      ]
    },
    {
      "cell_type": "code",
      "execution_count": null,
      "metadata": {
        "id": "-Vhy1br_YB2a"
      },
      "outputs": [],
      "source": [
        "# visualizando informações e se temos ou não dados nulos\n",
        "data.info()"
      ]
    },
    {
      "cell_type": "code",
      "execution_count": null,
      "metadata": {
        "id": "P5H_qWu3Y9y2"
      },
      "outputs": [],
      "source": [
        "# Contando a quantidade de valores nulos por coluna\n",
        "data.isnull().sum()"
      ]
    },
    {
      "cell_type": "code",
      "execution_count": null,
      "metadata": {
        "id": "WdyRtYKIZjHp"
      },
      "outputs": [],
      "source": [
        "# quantidade de valores por variavel\n",
        "data.value_counts()"
      ]
    },
    {
      "cell_type": "code",
      "execution_count": null,
      "metadata": {
        "id": "X98KVNVZZUa0"
      },
      "outputs": [],
      "source": [
        "# Verificando as informações estatísticas da base\n",
        "data.describe()"
      ]
    },
    {
      "cell_type": "markdown",
      "metadata": {
        "id": "VdWnSXZiY-_R"
      },
      "source": [
        "Agora é a hora que tomamos a primeira decisão: o que fazer com os dados nulos\n",
        "- caso exista uma tabela com muitos dados nulos, o melhor seria exclui-la do nosso dataset\n",
        "- caso tenha pouco valor nulo, podemos obtar por apagar as linhas nulas ou atribuir a média ou mediana para esses campos\n",
        "\n",
        "anotamos as decições nesse bloco"
      ]
    },
    {
      "cell_type": "code",
      "execution_count": null,
      "metadata": {},
      "outputs": [],
      "source": [
        "# ver a porcentagem de dados nulos\n",
        "data.isna().sum()/data.shape[0] "
      ]
    },
    {
      "cell_type": "code",
      "execution_count": null,
      "metadata": {},
      "outputs": [],
      "source": [
        "# visualizando dados nulos para possível manipulação\n",
        "data[data.isna().any(axis=1)]"
      ]
    },
    {
      "cell_type": "code",
      "execution_count": null,
      "metadata": {
        "id": "TRPqQmR2aODq"
      },
      "outputs": [],
      "source": [
        "# Retirando as colunas que tem muitos valores nulos\n",
        "retirar = [\"Coluna 1\", \"Coluna 2\"] # colunas que queremos remover, com sensitive case\n",
        "data = data.drop(retirar, axis=1)"
      ]
    },
    {
      "cell_type": "code",
      "execution_count": null,
      "metadata": {
        "id": "NMYp78ipbCrE"
      },
      "outputs": [],
      "source": [
        "# Atribuindo a média para colunas sem valores\n",
        "data.loc[data.Coluna.isnull(),'Coluna'] = data['Coluna'].mean()"
      ]
    },
    {
      "cell_type": "code",
      "execution_count": null,
      "metadata": {
        "id": "G7ujzYMybV9L"
      },
      "outputs": [],
      "source": [
        "# Eliminando todas as outras linhas com valores vazios\n",
        "data = data.dropna()"
      ]
    },
    {
      "cell_type": "markdown",
      "metadata": {
        "id": "uLJTAB41bXAW"
      },
      "source": [
        "**Agora não existem mais valores nulos na nossa tabela**"
      ]
    },
    {
      "cell_type": "code",
      "execution_count": null,
      "metadata": {
        "id": "btxOUC15ZeOU"
      },
      "outputs": [],
      "source": [
        "# Verificando o número de valores únicos em cada coluna\n",
        "data.nunique()"
      ]
    },
    {
      "cell_type": "code",
      "execution_count": null,
      "metadata": {},
      "outputs": [],
      "source": [
        "# verificando cada valor unico por coluna\n",
        "for col in data.columns:\n",
        "    print(f\"Coluna: {col}\")\n",
        "    print(data[col].unique())\n",
        "    print(\"-\" * 30)"
      ]
    },
    {
      "cell_type": "markdown",
      "metadata": {
        "id": "vccUGDTsbdzs"
      },
      "source": [
        "Sem valores nulos, podemos então remover as colunas que possuem dados únicos como ids, nomes pessoais, entre outros"
      ]
    },
    {
      "cell_type": "code",
      "execution_count": null,
      "metadata": {
        "id": "HZtqKurTb2bu"
      },
      "outputs": [],
      "source": [
        "# removendo counas específicas demais\n",
        "retirar = [\"Coluna 1\", \"Coluna 2\"] # colunas que queremos remover, com sensitive case\n",
        "data = data.drop(retirar, axis=1)"
      ]
    },
    {
      "cell_type": "markdown",
      "metadata": {
        "id": "vQDRlKg1b9t7"
      },
      "source": [
        "**Sem valores nulos e sem colunas inúteis, podemos procurar por mais colunas para tratar**"
      ]
    },
    {
      "cell_type": "code",
      "execution_count": null,
      "metadata": {
        "id": "j3B3oQoxcGv6"
      },
      "outputs": [],
      "source": [
        "# tipos de colunas\n",
        "data.dtypes\n",
        "data.info()"
      ]
    },
    {
      "cell_type": "code",
      "execution_count": null,
      "metadata": {
        "id": "SqVp50jBcOg4"
      },
      "outputs": [],
      "source": [
        "# gráficos demonstrando quantidade de valores iguais em todas as colunas \n",
        "\n",
        "num_lst = []\n",
        "cat_lst = []\n",
        "\n",
        "from pandas.api.types import is_string_dtype, is_numeric_dtype\n",
        "\n",
        "for column in data:\n",
        "    plt.figure(column, figsize = (5,5))\n",
        "    plt.title(column)\n",
        "    if is_numeric_dtype(data[column]):\n",
        "        data[column].plot(kind = 'hist')\n",
        "        num_lst.append(column)\n",
        "    elif is_string_dtype(data[column]):\n",
        "        data[column].value_counts().plot(kind = 'bar')\n",
        "        cat_lst.append(column)\n",
        "        \n",
        "print(num_lst)\n",
        "print(cat_lst)"
      ]
    },
    {
      "cell_type": "markdown",
      "metadata": {},
      "source": [
        "Podemos agora verificar se nossa base de dados possui valores duplicados, pois precisamos removê-las\n",
        "Essa decisão melhora muito nosso modelo ML, pois dá dados únicos para cálculo"
      ]
    },
    {
      "cell_type": "code",
      "execution_count": null,
      "metadata": {},
      "outputs": [],
      "source": [
        "data.duplicated()\n",
        "data.duplicated().sum() # verificando quantidade de tuplas duplicadas"
      ]
    },
    {
      "cell_type": "code",
      "execution_count": null,
      "metadata": {},
      "outputs": [],
      "source": [
        "data.drop_duplicates(inplace=True) # removendo tuplas duplicadas"
      ]
    },
    {
      "cell_type": "markdown",
      "metadata": {
        "id": "rhS9hWilcbID"
      },
      "source": [
        "Agora podemos tratar da seguinte forma\n",
        "- caso tenham apenas 2 valores em uma coluna do tipo object, podemos utilizar lambda em uma coluna nova ou na mesma coluna para afirmar ou negar\n",
        "- caso tenha mais de dois valores, podemos utilizar uma tecnica chamada LabelEncoder\n",
        "- caso não exista uma relação entre os valores (um valor maior que o outro), vamos usar o One Hot Encoding ou get dummies\n",
        "- Para isso, podemos usar o OneHotEncoder do Scikit-Learn:\n",
        "    - https://scikit-learn.org/stable/modules/generated/sklearn.preprocessing.OneHotEncoder.html\n",
        "- Ou o próprio get_dummies do pandas:\n",
        "    - https://pandas.pydata.org/docs/reference/api/pandas.get_dummies.html\n",
        "\n",
        "ambos retornam matrizes que precisamos concatenar\n"
      ]
    },
    {
      "cell_type": "code",
      "execution_count": null,
      "metadata": {
        "id": "Gp4dOl2xjAqh"
      },
      "outputs": [],
      "source": [
        "# usando lambda\n",
        "data.Coluna.value_counts() ## vendo quais valores existem naquela coluna especifica\n",
        "data[\"Coluna nova\"] = data.gender.apply(lambda x:1 if x == 'Valor positivo' else 0)\n",
        "data = data.drop([\"Coluna velha\"], axis=1) ## removendo coluna velha"
      ]
    },
    {
      "cell_type": "code",
      "execution_count": null,
      "metadata": {
        "id": "tHuOvDegcafc"
      },
      "outputs": [],
      "source": [
        "# usando metodo label para transformar colunas\n",
        "from sklearn.preprocessing import LabelEncoder\n",
        "\n",
        "encoder = LabelEncoder() # criando label\n",
        "data[\"Coluna nova\"] = encoder.fit_transform(data.Coluna) # criando coluna nova fazendo a transformação da velha\n",
        "data.groupby([\"Coluna nova\", \"Coluna velha\"])[\"Coluna velha\"].count() # agrupando colunas para descobrir quais valores são quais números"
      ]
    },
    {
      "cell_type": "code",
      "execution_count": null,
      "metadata": {
        "id": "JgqUnnMEkHjv"
      },
      "outputs": [],
      "source": [
        "# usando get_dummies\n",
        "pd.get_dummies(data.Coluna)\n",
        "\n",
        "# Unindo essas informações no dataset\n",
        "data = pd.concat([data,pd.get_dummies(data.Coluna)],axis=1)\n",
        "## concatenamos então uma matriz com valores que representam individualmente cada caso da antiga coluna, isso fara com que a coluna seja substituida"
      ]
    },
    {
      "cell_type": "markdown",
      "metadata": {
        "id": "3mS7Bb9IlBJI"
      },
      "source": [
        "## Análise Exploratória\n",
        "- Vamos tentar visualizar como as informações de cada item estão distribuídas\n",
        "- Vamos ver a correlação entre cada um dos itens"
      ]
    },
    {
      "cell_type": "code",
      "execution_count": null,
      "metadata": {
        "id": "7p2fRCexlCom"
      },
      "outputs": [],
      "source": [
        "import seaborn as sns\n",
        "import matplotlib.pyplot as plt\n",
        "\n",
        "sns.heatmap(data.corr(), annot=True, cmap=\"Wistia\")\n",
        "plt.show()\n",
        "\n",
        "# outra forma de ver a mesma análise\n",
        "# sns.pairplot(tabela)\n",
        "# plt.show()"
      ]
    },
    {
      "cell_type": "markdown",
      "metadata": {
        "id": "g2VKKIuglNtA"
      },
      "source": [
        "# Treino X Teste\n",
        "\n",
        "#### Com isso, podemos partir para a preparação dos dados para treinarmos o Modelo de Machine Learning\n",
        "\n",
        "- Separando em dados de treino e dados de teste"
      ]
    },
    {
      "cell_type": "code",
      "execution_count": null,
      "metadata": {
        "id": "ga6cfn-vlTe_"
      },
      "outputs": [],
      "source": [
        "from sklearn.model_selection import train_test_split\n",
        "\n",
        "# separamos primeiramente qual coluna será a que queremos prever e qual será parte da previsão\n",
        "x = data.drop(\"ColunaQueSeraPrevista\", axis=1)\n",
        "y = data[\"ColunaQueSeraPrevista\"]\n",
        "\n",
        "xTreino, xTeste, yTreino, yTeste = train_test_split(x, y, test_size=0.3, random_state=1)"
      ]
    },
    {
      "cell_type": "markdown",
      "metadata": {
        "id": "6yViYKrAltx9"
      },
      "source": [
        "# Problema de classificação\n",
        "### Temos 2 principais algoritmos para classificação de itens\n",
        "- Árvore de decisão\n",
        "- KNN"
      ]
    },
    {
      "cell_type": "code",
      "execution_count": null,
      "metadata": {
        "id": "APUSQrPLmLW2"
      },
      "outputs": [],
      "source": [
        "# Importando os algoritmos e criando os classificadores\n",
        "from sklearn.neighbors import KNeighborsClassifier\n",
        "from sklearn import tree\n",
        "\n",
        "neigh = KNeighborsClassifier(n_neighbors=3)\n",
        "clfArvore = tree.DecisionTreeClassifier(random_state=0)"
      ]
    },
    {
      "cell_type": "code",
      "execution_count": null,
      "metadata": {
        "id": "egAYJBg5mPox"
      },
      "outputs": [],
      "source": [
        "# dando o fit nos modelos, ou seja, inserindo nossos dados de treino\n",
        "neight = neigh.fit(xTreino, yTreino)\n",
        "clfArvore = clfArvore.fit(xTreino, yTreino)"
      ]
    },
    {
      "cell_type": "markdown",
      "metadata": {
        "id": "ALyb0ygnmj3k"
      },
      "source": [
        "**Podemos então fazer a predição dos dados com os dados de teste para avaliar os resultados**"
      ]
    },
    {
      "cell_type": "code",
      "execution_count": null,
      "metadata": {
        "id": "6rLq33cZmjdq"
      },
      "outputs": [],
      "source": [
        "# Fazendo a predicão\n",
        "predKNN = neigh.predict(xTeste)\n",
        "predArvore = clfArvore.predict(xTeste)"
      ]
    },
    {
      "cell_type": "markdown",
      "metadata": {
        "id": "Z08jIKK5m5z1"
      },
      "source": [
        "#### Visualizando a matriz de confusão do código, onde teremos\n",
        "[verdadeiro Negativo, Falso positivo]\n",
        "[falso negativo, verdadeiro positivo]"
      ]
    },
    {
      "cell_type": "code",
      "execution_count": null,
      "metadata": {
        "id": "QoQ9VzzsnJ72"
      },
      "outputs": [],
      "source": [
        "# matriz de confusão para o KNN\n",
        "from sklearn.metrics import confusio_matrix\n",
        "\n",
        "confusion_matrix(yTeste, predKNN)"
      ]
    },
    {
      "cell_type": "code",
      "execution_count": null,
      "metadata": {
        "id": "_H-3QmyRngTa"
      },
      "outputs": [],
      "source": [
        "# matriz de confusão para o KNN\n",
        "from sklearn.metrics import confusio_matrix\n",
        "\n",
        "confusion_matrix(yTeste, predArvore)"
      ]
    },
    {
      "cell_type": "markdown",
      "metadata": {
        "id": "rxDZARLYmuL-"
      },
      "source": [
        "#### Para avaliar o modelo, usaremos algumas métricas\n",
        "- acurácia: quantos valores foram acertados, seja positivo ou negativo. quantos acertos com relação ao total em %\n",
        "- precisão: relação entre o falso positivo e o verdadeiro positivo. dos valores positivos, quantos estavam corretos\n",
        "- recall: relação entre os falsos negativos  e verdadeiros positivos. dos valores reais verdadeiros, quantos conseguimos encontrar"
      ]
    },
    {
      "cell_type": "code",
      "execution_count": null,
      "metadata": {
        "id": "6JZ98KBioDO-"
      },
      "outputs": [],
      "source": [
        "# Importando as métricas de avaliação\n",
        "from sklearn.metrics import accuracy_score\n",
        "from sklearn.metrics import precision_score\n",
        "from sklearn.metrics import recall_score"
      ]
    },
    {
      "cell_type": "code",
      "execution_count": null,
      "metadata": {
        "id": "U9unVVYhoGMR"
      },
      "outputs": [],
      "source": [
        "# Acurácia\n",
        "print(accuracy_score(yTeste,predKNN))\n",
        "print(accuracy_score(yTeste,predArvore))"
      ]
    },
    {
      "cell_type": "code",
      "execution_count": null,
      "metadata": {
        "id": "db8MdERioOxg"
      },
      "outputs": [],
      "source": [
        "# Precisão\n",
        "print(precision_score(yTeste,predKNN))\n",
        "print(precision_score(yTeste,predArvore))"
      ]
    },
    {
      "cell_type": "code",
      "execution_count": null,
      "metadata": {
        "id": "RqkYW2L5oUJ_"
      },
      "outputs": [],
      "source": [
        "# Recall\n",
        "print(recall_score(yTeste,predKNN))\n",
        "print(recall_score(yTeste,predArvore))"
      ]
    },
    {
      "cell_type": "markdown",
      "metadata": {
        "id": "GpXogh0Wob5f"
      },
      "source": [
        "# Problema de regressão\n",
        "### Temos 3 importantes algoritmos de regressão\n",
        "- Regressão linear\n",
        "- Ridge\n",
        "- Lasso"
      ]
    },
    {
      "cell_type": "code",
      "execution_count": null,
      "metadata": {
        "id": "U0DBk83koqsc"
      },
      "outputs": [],
      "source": [
        "# Importando os algoritmos e criando os classificadores\n",
        "from sklearn.linear_model import Ridge\n",
        "from sklearn.linear_model import LogisticRegression\n",
        "from sklearn.linear_model import Lasso\n",
        "\n",
        "ridReg = Ridge(alpha=0.5)\n",
        "clfLog = LogisticRegression(random_state=0, max_iter=1000)\n",
        "lassoReg = Lasso(alpha=0.1)"
      ]
    },
    {
      "cell_type": "code",
      "execution_count": null,
      "metadata": {
        "id": "NyXZegOuo3YC"
      },
      "outputs": [],
      "source": [
        "# fazendo fit dos modelos acima\n",
        "ridReg = ridReg.fit(xTreino, yTreino)\n",
        "clfLog = clfLog.fit(xTreino, yTreino)\n",
        "lassoReg = lassoReg.fit(xTreino, yTreino)"
      ]
    },
    {
      "cell_type": "code",
      "execution_count": null,
      "metadata": {
        "id": "Jg-X6RLlo6lD"
      },
      "outputs": [],
      "source": [
        "# Fazendo a predicão\n",
        "predRidge = ridReg.predict(xTeste)\n",
        "predLasso = lassoReg.predict(xTeste)\n",
        "predLog = clfLog.predict(xTeste)"
      ]
    },
    {
      "cell_type": "markdown",
      "metadata": {
        "id": "pYHYel1Yo-TN"
      },
      "source": [
        "### Com a previsão feita com nosso algoritmo de teste, podemos verificar nossa regressão de duas formas, com o r² e com análise gráfica"
      ]
    },
    {
      "cell_type": "code",
      "execution_count": null,
      "metadata": {
        "id": "E_gMuMXrpK96"
      },
      "outputs": [],
      "source": [
        "# Importando as métricas de avaliação\n",
        "from sklearn import metrics ## avaliação em %\n",
        "\n",
        "print(metrics.r2_score(yTeste, pred_Ridge))\n",
        "print(metrics.r2_score(yTeste, pred_Lasso))\n",
        "print(metrics.r2_score(yTeste, pred_Log))"
      ]
    },
    {
      "cell_type": "markdown",
      "metadata": {
        "id": "Lzdk3Q9qpQv7"
      },
      "source": [
        "**Usando gráfico de análise com tabela auxiliar**"
      ]
    },
    {
      "cell_type": "code",
      "execution_count": null,
      "metadata": {
        "id": "SSxMmveIpQaA"
      },
      "outputs": [],
      "source": [
        "import seaborn as sns\n",
        "import matplotlib.pyplot as plt\n",
        "\n",
        "tabela_auxiliar = pd.DataFrame()\n",
        "tabela_auxiliar[\"y_teste\"] = yTeste\n",
        "tabela_auxiliar[\"Previsoes Ridge\"] = predRidge\n",
        "tabela_auxiliar[\"Previsoes Regressao Linear\"] = predLog\n",
        "tabela_auxiliar[\"Previsoes Lasso\"] = predLasso\n",
        "\n",
        "plt.figure(figsize=(15,6))\n",
        "sns.lineplot(data=tabela_auxiliar)\n",
        "plt.show()"
      ]
    },
    {
      "cell_type": "markdown",
      "metadata": {
        "id": "XdNmhuswq3e9"
      },
      "source": [
        "observar qual curva se aproxima mais a curva de teste"
      ]
    },
    {
      "cell_type": "markdown",
      "metadata": {
        "id": "1OswpRm6q8uO"
      },
      "source": [
        "# Prevendo dados\n",
        "- utilizando as colunas do XTreino, criamos um dataframe com valores para obsevarmos qual a predição"
      ]
    },
    {
      "cell_type": "code",
      "execution_count": null,
      "metadata": {
        "id": "i3HZ9WRWrLtb"
      },
      "outputs": [],
      "source": [
        "dataset = {'Coluna1': [valorLinha1, valorLinha2],\n",
        "        'Coluna2': [valorLinha1, valorLinha2]}\n",
        "\n",
        "tabela = pd.DataFrame(dataset)\n",
        "\n",
        "## para cada algoritmo que treinamos\n",
        "previsao = lassoReg.predict(tabela)\n",
        "\n",
        "# valor previsto\n",
        "print(previsao)"
      ]
    }
  ],
  "metadata": {
    "colab": {
      "authorship_tag": "ABX9TyM4psk9XrgZzfVO3iRhOnOX",
      "collapsed_sections": [
        "IPErqqL6Xd0w",
        "3mS7Bb9IlBJI",
        "g2VKKIuglNtA",
        "6yViYKrAltx9",
        "Z08jIKK5m5z1",
        "GpXogh0Wob5f",
        "1OswpRm6q8uO"
      ],
      "include_colab_link": true,
      "provenance": []
    },
    "kernelspec": {
      "display_name": "Python 3",
      "name": "python3"
    },
    "language_info": {
      "name": "python",
      "version": "3.11.6"
    }
  },
  "nbformat": 4,
  "nbformat_minor": 0
}
